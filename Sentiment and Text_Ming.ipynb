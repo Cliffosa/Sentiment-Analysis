{
 "cells": [
  {
   "cell_type": "code",
   "execution_count": 1,
   "id": "5ec0ef08",
   "metadata": {},
   "outputs": [
    {
     "name": "stderr",
     "output_type": "stream",
     "text": [
      "[nltk_data] Downloading package stopwords to\n",
      "[nltk_data]     C:\\Users\\user\\AppData\\Roaming\\nltk_data...\n",
      "[nltk_data]   Package stopwords is already up-to-date!\n",
      "[nltk_data] Downloading package punkt to\n",
      "[nltk_data]     C:\\Users\\user\\AppData\\Roaming\\nltk_data...\n",
      "[nltk_data]   Package punkt is already up-to-date!\n",
      "[nltk_data] Downloading package wordnet to\n",
      "[nltk_data]     C:\\Users\\user\\AppData\\Roaming\\nltk_data...\n",
      "[nltk_data]   Package wordnet is already up-to-date!\n",
      "[nltk_data] Downloading package omw-1.4 to\n",
      "[nltk_data]     C:\\Users\\user\\AppData\\Roaming\\nltk_data...\n",
      "[nltk_data]   Package omw-1.4 is already up-to-date!\n",
      "[nltk_data] Downloading package vader_lexicon to\n",
      "[nltk_data]     C:\\Users\\user\\AppData\\Roaming\\nltk_data...\n",
      "[nltk_data]   Package vader_lexicon is already up-to-date!\n"
     ]
    }
   ],
   "source": [
    "import numpy as np\n",
    "import pandas as pd\n",
    "import matplotlib.pyplot as plt\n",
    "import re # for regular expression\n",
    "import seaborn as sns\n",
    "from wordcloud import WordCloud\n",
    "from sklearn.feature_extraction.text import CountVectorizer\n",
    "import nltk\n",
    "nltk.download([\n",
    "    \"stopwords\",\n",
    "    \"punkt\",\n",
    "    \"wordnet\",\n",
    "    \"omw-1.4\",\n",
    "    \"vader_lexicon\"\n",
    "])\n",
    "%matplotlib inline\n",
    "from nltk.sentiment.vader import SentimentIntensityAnalyzer"
   ]
  },
  {
   "cell_type": "code",
   "execution_count": 2,
   "id": "7185d844",
   "metadata": {},
   "outputs": [],
   "source": [
    "hotel_review = pd.read_csv(\"data/tourist_accommodation_reviews.csv\")"
   ]
  },
  {
   "cell_type": "code",
   "execution_count": 3,
   "id": "979f2d51",
   "metadata": {},
   "outputs": [
    {
     "name": "stdout",
     "output_type": "stream",
     "text": [
      "<class 'pandas.core.frame.DataFrame'>\n",
      "RangeIndex: 53644 entries, 0 to 53643\n",
      "Data columns (total 5 columns):\n",
      " #   Column                 Non-Null Count  Dtype \n",
      "---  ------                 --------------  ----- \n",
      " 0   ID                     53644 non-null  object\n",
      " 1   Review Date            53644 non-null  object\n",
      " 2   Location               53644 non-null  object\n",
      " 3   Hotel/Restaurant name  53644 non-null  object\n",
      " 4   Review                 53644 non-null  object\n",
      "dtypes: object(5)\n",
      "memory usage: 2.0+ MB\n"
     ]
    }
   ],
   "source": [
    "hotel_review .info()"
   ]
  },
  {
   "cell_type": "code",
   "execution_count": 4,
   "id": "9d388e3a",
   "metadata": {},
   "outputs": [
    {
     "data": {
      "text/html": [
       "<div>\n",
       "<style scoped>\n",
       "    .dataframe tbody tr th:only-of-type {\n",
       "        vertical-align: middle;\n",
       "    }\n",
       "\n",
       "    .dataframe tbody tr th {\n",
       "        vertical-align: top;\n",
       "    }\n",
       "\n",
       "    .dataframe thead th {\n",
       "        text-align: right;\n",
       "    }\n",
       "</style>\n",
       "<table border=\"1\" class=\"dataframe\">\n",
       "  <thead>\n",
       "    <tr style=\"text-align: right;\">\n",
       "      <th></th>\n",
       "      <th>ID</th>\n",
       "      <th>Review Date</th>\n",
       "      <th>Location</th>\n",
       "      <th>Hotel/Restaurant name</th>\n",
       "      <th>Review</th>\n",
       "    </tr>\n",
       "  </thead>\n",
       "  <tbody>\n",
       "    <tr>\n",
       "      <th>0</th>\n",
       "      <td>rn579778340</td>\n",
       "      <td>Reviewed 1 week ago</td>\n",
       "      <td>Kathu</td>\n",
       "      <td>Thong Dee The Kathu Brasserie</td>\n",
       "      <td>Just been for sunday roast lamb and beef truly...</td>\n",
       "    </tr>\n",
       "    <tr>\n",
       "      <th>1</th>\n",
       "      <td>rn576350875</td>\n",
       "      <td>Reviewed 3 weeks ago</td>\n",
       "      <td>Kathu</td>\n",
       "      <td>Thong Dee The Kathu Brasserie</td>\n",
       "      <td>Quietly set off the main road, nice atmosphere...</td>\n",
       "    </tr>\n",
       "    <tr>\n",
       "      <th>2</th>\n",
       "      <td>rn574921678</td>\n",
       "      <td>Reviewed 4 weeks ago</td>\n",
       "      <td>Kathu</td>\n",
       "      <td>Thong Dee The Kathu Brasserie</td>\n",
       "      <td>I made a reservation for a birthday two days i...</td>\n",
       "    </tr>\n",
       "    <tr>\n",
       "      <th>3</th>\n",
       "      <td>rn572905503</td>\n",
       "      <td>Reviewed April 12, 2018</td>\n",
       "      <td>Kathu</td>\n",
       "      <td>Thong Dee The Kathu Brasserie</td>\n",
       "      <td>We visit here regularly and never fail to be i...</td>\n",
       "    </tr>\n",
       "    <tr>\n",
       "      <th>4</th>\n",
       "      <td>rn572364712</td>\n",
       "      <td>Reviewed April 10, 2018</td>\n",
       "      <td>Kathu</td>\n",
       "      <td>Thong Dee The Kathu Brasserie</td>\n",
       "      <td>Visited this wonderful place on my travels and...</td>\n",
       "    </tr>\n",
       "  </tbody>\n",
       "</table>\n",
       "</div>"
      ],
      "text/plain": [
       "            ID               Review Date Location  \\\n",
       "0  rn579778340      Reviewed 1 week ago     Kathu   \n",
       "1  rn576350875     Reviewed 3 weeks ago     Kathu   \n",
       "2  rn574921678     Reviewed 4 weeks ago     Kathu   \n",
       "3  rn572905503  Reviewed April 12, 2018     Kathu   \n",
       "4  rn572364712  Reviewed April 10, 2018     Kathu   \n",
       "\n",
       "           Hotel/Restaurant name  \\\n",
       "0  Thong Dee The Kathu Brasserie   \n",
       "1  Thong Dee The Kathu Brasserie   \n",
       "2  Thong Dee The Kathu Brasserie   \n",
       "3  Thong Dee The Kathu Brasserie   \n",
       "4  Thong Dee The Kathu Brasserie   \n",
       "\n",
       "                                              Review  \n",
       "0  Just been for sunday roast lamb and beef truly...  \n",
       "1  Quietly set off the main road, nice atmosphere...  \n",
       "2  I made a reservation for a birthday two days i...  \n",
       "3  We visit here regularly and never fail to be i...  \n",
       "4  Visited this wonderful place on my travels and...  "
      ]
     },
     "execution_count": 4,
     "metadata": {},
     "output_type": "execute_result"
    }
   ],
   "source": [
    "hotel_review.head()"
   ]
  },
  {
   "cell_type": "code",
   "execution_count": 5,
   "id": "6711a087",
   "metadata": {},
   "outputs": [
    {
     "data": {
      "text/plain": [
       "(53644, 5)"
      ]
     },
     "execution_count": 5,
     "metadata": {},
     "output_type": "execute_result"
    }
   ],
   "source": [
    "hotel_review.shape"
   ]
  },
  {
   "cell_type": "code",
   "execution_count": 6,
   "id": "677b4df8",
   "metadata": {},
   "outputs": [
    {
     "data": {
      "text/plain": [
       "Index([' Patong', ' Karon', ' Kata Beach', ' Rawai', ' Choeng Thale',\n",
       "       ' Phuket Town', ' Kamala', ' Mai Khao', ' Cape Panwa', ' Chalong',\n",
       "       ' Thalang District', ' Kathu', ' Nai Yang', ' Nai Harn',\n",
       "       ' Bang Tao Beach', ' Karon Beach', ' Wichit', ' Talat Yai', ' Koh Kaew',\n",
       "       ' Kata Noi Beach', ' Pa Khlok', ' Ratsada', ' Talat Nuea', ' Nai Thon',\n",
       "       ' Sakhu'],\n",
       "      dtype='object')"
      ]
     },
     "execution_count": 6,
     "metadata": {},
     "output_type": "execute_result"
    }
   ],
   "source": [
    "# List of all the locationts available\n",
    "hotel_review[\"Location\"].value_counts().index "
   ]
  },
  {
   "cell_type": "code",
   "execution_count": 7,
   "id": "61cfee81",
   "metadata": {},
   "outputs": [],
   "source": [
    "# Picking two locations that interest me\n",
    "location = [\" Rawai\", \" Karon\"] "
   ]
  },
  {
   "cell_type": "code",
   "execution_count": 8,
   "id": "a2578efb",
   "metadata": {},
   "outputs": [],
   "source": [
    "location_review = hotel_review[\"Location\"].isin(location) # reviews for the two locations"
   ]
  },
  {
   "cell_type": "code",
   "execution_count": 9,
   "id": "a0797225",
   "metadata": {},
   "outputs": [
    {
     "data": {
      "text/plain": [
       "0        False\n",
       "1        False\n",
       "2        False\n",
       "3        False\n",
       "4        False\n",
       "         ...  \n",
       "53639    False\n",
       "53640    False\n",
       "53641    False\n",
       "53642    False\n",
       "53643    False\n",
       "Name: Location, Length: 53644, dtype: bool"
      ]
     },
     "execution_count": 9,
     "metadata": {},
     "output_type": "execute_result"
    }
   ],
   "source": [
    "location_review"
   ]
  },
  {
   "cell_type": "code",
   "execution_count": 10,
   "id": "cd8111dc",
   "metadata": {},
   "outputs": [],
   "source": [
    "locations_hotels = hotel_review[location_review]"
   ]
  },
  {
   "cell_type": "code",
   "execution_count": 11,
   "id": "ac89b3d8",
   "metadata": {},
   "outputs": [
    {
     "data": {
      "text/html": [
       "<div>\n",
       "<style scoped>\n",
       "    .dataframe tbody tr th:only-of-type {\n",
       "        vertical-align: middle;\n",
       "    }\n",
       "\n",
       "    .dataframe tbody tr th {\n",
       "        vertical-align: top;\n",
       "    }\n",
       "\n",
       "    .dataframe thead th {\n",
       "        text-align: right;\n",
       "    }\n",
       "</style>\n",
       "<table border=\"1\" class=\"dataframe\">\n",
       "  <thead>\n",
       "    <tr style=\"text-align: right;\">\n",
       "      <th></th>\n",
       "      <th>ID</th>\n",
       "      <th>Review Date</th>\n",
       "      <th>Location</th>\n",
       "      <th>Hotel/Restaurant name</th>\n",
       "      <th>Review</th>\n",
       "    </tr>\n",
       "  </thead>\n",
       "  <tbody>\n",
       "    <tr>\n",
       "      <th>200</th>\n",
       "      <td>rn580748664</td>\n",
       "      <td>Reviewed 4 days ago</td>\n",
       "      <td>Rawai</td>\n",
       "      <td>Green Tamarind Kitchen</td>\n",
       "      <td>If you want the best burger in Phuket, look no...</td>\n",
       "    </tr>\n",
       "    <tr>\n",
       "      <th>201</th>\n",
       "      <td>rn579783154</td>\n",
       "      <td>Reviewed 1 week ago</td>\n",
       "      <td>Rawai</td>\n",
       "      <td>Green Tamarind Kitchen</td>\n",
       "      <td>I have been here a couple of times now,and hav...</td>\n",
       "    </tr>\n",
       "    <tr>\n",
       "      <th>202</th>\n",
       "      <td>rn579651071</td>\n",
       "      <td>Reviewed 1 week ago</td>\n",
       "      <td>Rawai</td>\n",
       "      <td>Green Tamarind Kitchen</td>\n",
       "      <td>This place is amazing! Burgers are delicious! ...</td>\n",
       "    </tr>\n",
       "    <tr>\n",
       "      <th>203</th>\n",
       "      <td>rn574834726</td>\n",
       "      <td>Reviewed 4 weeks ago</td>\n",
       "      <td>Rawai</td>\n",
       "      <td>Green Tamarind Kitchen</td>\n",
       "      <td>This is a must when in Phuket. Their burgers r...</td>\n",
       "    </tr>\n",
       "    <tr>\n",
       "      <th>204</th>\n",
       "      <td>rn574713927</td>\n",
       "      <td>Reviewed 4 weeks ago</td>\n",
       "      <td>Rawai</td>\n",
       "      <td>Green Tamarind Kitchen</td>\n",
       "      <td>The reviews speak for themselves. This is main...</td>\n",
       "    </tr>\n",
       "    <tr>\n",
       "      <th>...</th>\n",
       "      <td>...</td>\n",
       "      <td>...</td>\n",
       "      <td>...</td>\n",
       "      <td>...</td>\n",
       "      <td>...</td>\n",
       "    </tr>\n",
       "    <tr>\n",
       "      <th>53343</th>\n",
       "      <td>rn496540215</td>\n",
       "      <td>Reviewed June 27, 2017</td>\n",
       "      <td>Karon</td>\n",
       "      <td>Khan Baba phuket</td>\n",
       "      <td>I Oder fried rice with shrimp..taste is not go...</td>\n",
       "    </tr>\n",
       "    <tr>\n",
       "      <th>53344</th>\n",
       "      <td>rn493943056</td>\n",
       "      <td>Reviewed June 18, 2017</td>\n",
       "      <td>Karon</td>\n",
       "      <td>Khan Baba phuket</td>\n",
       "      <td>From the food, to the service to the price, it...</td>\n",
       "    </tr>\n",
       "    <tr>\n",
       "      <th>53345</th>\n",
       "      <td>rn483183767</td>\n",
       "      <td>Reviewed May 10, 2017</td>\n",
       "      <td>Karon</td>\n",
       "      <td>Khan Baba phuket</td>\n",
       "      <td>If you are looking for good halal food in Phuk...</td>\n",
       "    </tr>\n",
       "    <tr>\n",
       "      <th>53346</th>\n",
       "      <td>rn473586498</td>\n",
       "      <td>Reviewed April 8, 2017</td>\n",
       "      <td>Karon</td>\n",
       "      <td>Khan Baba phuket</td>\n",
       "      <td>I don't recommend this restaurant to anyone wo...</td>\n",
       "    </tr>\n",
       "    <tr>\n",
       "      <th>53347</th>\n",
       "      <td>rn473060912</td>\n",
       "      <td>Reviewed April 5, 2017</td>\n",
       "      <td>Karon</td>\n",
       "      <td>Khan Baba phuket</td>\n",
       "      <td>We had the worst Indian food. Naan bread were ...</td>\n",
       "    </tr>\n",
       "  </tbody>\n",
       "</table>\n",
       "<p>9637 rows × 5 columns</p>\n",
       "</div>"
      ],
      "text/plain": [
       "                ID              Review Date Location   Hotel/Restaurant name  \\\n",
       "200    rn580748664     Reviewed 4 days ago     Rawai  Green Tamarind Kitchen   \n",
       "201    rn579783154     Reviewed 1 week ago     Rawai  Green Tamarind Kitchen   \n",
       "202    rn579651071     Reviewed 1 week ago     Rawai  Green Tamarind Kitchen   \n",
       "203    rn574834726    Reviewed 4 weeks ago     Rawai  Green Tamarind Kitchen   \n",
       "204    rn574713927    Reviewed 4 weeks ago     Rawai  Green Tamarind Kitchen   \n",
       "...            ...                      ...      ...                     ...   \n",
       "53343  rn496540215  Reviewed June 27, 2017     Karon        Khan Baba phuket   \n",
       "53344  rn493943056  Reviewed June 18, 2017     Karon        Khan Baba phuket   \n",
       "53345  rn483183767   Reviewed May 10, 2017     Karon        Khan Baba phuket   \n",
       "53346  rn473586498  Reviewed April 8, 2017     Karon        Khan Baba phuket   \n",
       "53347  rn473060912  Reviewed April 5, 2017     Karon        Khan Baba phuket   \n",
       "\n",
       "                                                  Review  \n",
       "200    If you want the best burger in Phuket, look no...  \n",
       "201    I have been here a couple of times now,and hav...  \n",
       "202    This place is amazing! Burgers are delicious! ...  \n",
       "203    This is a must when in Phuket. Their burgers r...  \n",
       "204    The reviews speak for themselves. This is main...  \n",
       "...                                                  ...  \n",
       "53343  I Oder fried rice with shrimp..taste is not go...  \n",
       "53344  From the food, to the service to the price, it...  \n",
       "53345  If you are looking for good halal food in Phuk...  \n",
       "53346  I don't recommend this restaurant to anyone wo...  \n",
       "53347  We had the worst Indian food. Naan bread were ...  \n",
       "\n",
       "[9637 rows x 5 columns]"
      ]
     },
     "execution_count": 11,
     "metadata": {},
     "output_type": "execute_result"
    }
   ],
   "source": [
    "locations_hotels"
   ]
  },
  {
   "cell_type": "code",
   "execution_count": 12,
   "id": "358da4d9",
   "metadata": {},
   "outputs": [
    {
     "data": {
      "text/plain": [
       "Green Tamarind Kitchen                      100\n",
       "Angus O'Tool's Irish Pub                    100\n",
       "Baan Sailom Restaurant                      100\n",
       "Kata Villa Restaurant                       100\n",
       "Louis' Kitchen                              100\n",
       "                                           ... \n",
       "Rossovivo Ristorante Italiano E Pizzeria     93\n",
       "Khun Pha                                     93\n",
       "Da Mario                                     92\n",
       "Tokyo Japanese Restaurant                    92\n",
       "Red Chopsticks At Patong                     91\n",
       "Name: Hotel/Restaurant name, Length: 98, dtype: int64"
      ]
     },
     "execution_count": 12,
     "metadata": {},
     "output_type": "execute_result"
    }
   ],
   "source": [
    "# The hotels or restuarants at these locations with their total \n",
    "locations_hotels[\"Hotel/Restaurant name\"].value_counts() "
   ]
  },
  {
   "cell_type": "code",
   "execution_count": 13,
   "id": "0653ae97",
   "metadata": {},
   "outputs": [
    {
     "data": {
      "text/plain": [
       "Index(['Green Tamarind Kitchen', 'Angus O'Tool's Irish Pub',\n",
       "       'Baan Sailom Restaurant', 'Kata Villa Restaurant', 'Louis' Kitchen',\n",
       "       'Rum Jungle', 'Red Chopsticks', 'Mando Restaurant & Steakhouse',\n",
       "       'Atsumi Raw Cafe', 'Bamboo Kitchen', 'Food Market Kata',\n",
       "       'COCONUT Bar & Restaurant - Rawai Beach', 'The Palm Cuisine',\n",
       "       'Aussie Pub Kamala', 'Mamasita Mexican', 'PaPa Restaurant',\n",
       "       'Coral Restaurant', 'O-Oh Farm Karon', 'Capri Noi Restaurant',\n",
       "       'Ann Restaurant', 'Mint', 'Nikitas Beach Restaurant',\n",
       "       'Sansabai restaurant', 'Hooters Phuket',\n",
       "       'Wine Connection Deli & Bistro - Chalong, Phuket',\n",
       "       'Lucky 13 Sandwich Rawai', 'Buffalo Steak House - Karon Beach',\n",
       "       'D Wine Italian Bistro & Wine Bar', 'El Gaucho Steakhouse',\n",
       "       'Da Mario Karon', 'Mare Italian Restaurant', 'Vitaporn',\n",
       "       'Butterfly Bistro', '2gether Restaurant', 'Ying Restaurant', 'Nami',\n",
       "       'Ging Restaurant', 'Three Crowns Restaurant & Grill',\n",
       "       'A Spoonful of Sugar', 'Kook Restaurant', 'Cashew Nuts Food',\n",
       "       'Kalika 76 Restaurant', 'The Islander',\n",
       "       'Karlsson Restaurant & Steak House', 'Mama Restaurant - Karon Beach',\n",
       "       'Phuket La Ca Sa', 'Sabaijai Cafe', 'O-OH Farm Ta-Eiad',\n",
       "       'Pad Thai Shop', 'Tandoori Flames', 'Schlusslicht',\n",
       "       'Elephant Cafe by Tan', 'Flip Side', 'Churrasco Phuket Steakhouse',\n",
       "       'Two Chefs - Karon Beach', 'We Cafe', 'The Breakfast Hut',\n",
       "       'Hakan's Bar & Restaurant', 'Up Seafood', 'Rawai View Cafe' & Bar',\n",
       "       'Karlssons Restaurant Patong', 'Il Tagliere da Massimo',\n",
       "       'Sala Mexicali', 'The Green Man Pub', 'Pasha Kebab', 'Pinto',\n",
       "       'Delish Cafe', 'The Secret Cliff Resort & Restaurant',\n",
       "       'Enjoy's Italian Bar & Restaurant',\n",
       "       'Chomtalay restaurant at Mandarava Resort and Spa',\n",
       "       'Subparod Restaurant', 'Khan Baba phuket', 'Moo Restaurant',\n",
       "       'Cafe Java', 'Mookdee Seafood', 'Chez Bernard',\n",
       "       'Surin Bay Inn Restaurant', 'The Family Restaurant',\n",
       "       'Fork & Spoon Restaurant', 'Bon Island Restaurant',\n",
       "       'Coast Beach Club & Bistro Phuket', 'Jao Jong Seafood', 'Modena',\n",
       "       'The Oceanfront Restaurant and Bar at Kata Rocks', 'Portofino',\n",
       "       'Restaurant La Croisette',\n",
       "       'Tom Yam Goong Restaurant Cherngtalay Phuket', 'Norbu's Steakhouse',\n",
       "       'Restaurant Treffpunkt', 'Navrang Mahal', 'Divino Tapas Restaurant',\n",
       "       'Le Celtique', 'Bob's Restaurant & Bar',\n",
       "       'Rossovivo Ristorante Italiano E Pizzeria', 'Khun Pha', 'Da Mario',\n",
       "       'Tokyo Japanese Restaurant', 'Red Chopsticks At Patong'],\n",
       "      dtype='object')"
      ]
     },
     "execution_count": 13,
     "metadata": {},
     "output_type": "execute_result"
    }
   ],
   "source": [
    "# individual name of all the hotels/resturants\n",
    "locations_hotels[\"Hotel/Restaurant name\"].value_counts().index "
   ]
  },
  {
   "cell_type": "code",
   "execution_count": 14,
   "id": "6455ea38",
   "metadata": {},
   "outputs": [
    {
     "data": {
      "text/plain": [
       "98"
      ]
     },
     "execution_count": 14,
     "metadata": {},
     "output_type": "execute_result"
    }
   ],
   "source": [
    "#The total numbers of all hotels or restuarants in the locations\n",
    "len(locations_hotels[\"Hotel/Restaurant name\"].value_counts().index) "
   ]
  },
  {
   "cell_type": "code",
   "execution_count": 15,
   "id": "d507c222",
   "metadata": {},
   "outputs": [
    {
     "data": {
      "text/plain": [
       "98"
      ]
     },
     "execution_count": 15,
     "metadata": {},
     "output_type": "execute_result"
    }
   ],
   "source": [
    "# Get the number of distint or unique hotels\n",
    "len(locations_hotels[\"Hotel/Restaurant name\"].unique())"
   ]
  },
  {
   "cell_type": "code",
   "execution_count": 16,
   "id": "b887dc7e",
   "metadata": {},
   "outputs": [
    {
     "data": {
      "text/plain": [
       "array(['Churrasco Phuket Steakhouse', 'Navrang Mahal', 'O-Oh Farm Karon',\n",
       "       'Mamasita Mexican', 'The Islander', 'Flip Side',\n",
       "       'Two Chefs - Karon Beach', 'Surin Bay Inn Restaurant',\n",
       "       'Mare Italian Restaurant', 'Food Market Kata', 'Da Mario',\n",
       "       'Kata Villa Restaurant', 'Green Tamarind Kitchen',\n",
       "       \"Bob's Restaurant & Bar\", 'Delish Cafe',\n",
       "       'Wine Connection Deli & Bistro - Chalong, Phuket',\n",
       "       'El Gaucho Steakhouse', 'Chez Bernard', 'Mookdee Seafood',\n",
       "       'Kalika 76 Restaurant', 'Pinto', 'O-OH Farm Ta-Eiad',\n",
       "       'Tokyo Japanese Restaurant', 'Coral Restaurant',\n",
       "       'The Palm Cuisine', 'PaPa Restaurant', 'Restaurant La Croisette',\n",
       "       \"Hakan's Bar & Restaurant\",\n",
       "       'COCONUT Bar & Restaurant - Rawai Beach', 'The Green Man Pub'],\n",
       "      dtype=object)"
      ]
     },
     "execution_count": 16,
     "metadata": {},
     "output_type": "execute_result"
    }
   ],
   "source": [
    "# Randomly picking 30 hotels/Resturants from the total\n",
    "# seeding my random to always give the ramdomly picked hotels/resturant\n",
    "np.random.seed(30) \n",
    "np.random.choice(locations_hotels[\"Hotel/Restaurant name\"].unique(), 30, replace= False)"
   ]
  },
  {
   "cell_type": "code",
   "execution_count": 17,
   "id": "7d3f4b8e",
   "metadata": {},
   "outputs": [
    {
     "data": {
      "text/plain": [
       "30"
      ]
     },
     "execution_count": 17,
     "metadata": {},
     "output_type": "execute_result"
    }
   ],
   "source": [
    "# Getting same 30 all the time\n",
    "len(np.random.choice(locations_hotels[\"Hotel/Restaurant name\"].unique(), 30, replace= False))"
   ]
  },
  {
   "cell_type": "code",
   "execution_count": 18,
   "id": "4b13117e",
   "metadata": {},
   "outputs": [],
   "source": [
    "# Assign it to variable\n",
    "hotels_30 = np.random.choice(locations_hotels[\"Hotel/Restaurant name\"].unique(), 30, replace= False)"
   ]
  },
  {
   "cell_type": "code",
   "execution_count": 19,
   "id": "c8aa3bc8",
   "metadata": {},
   "outputs": [],
   "source": [
    "#Confirm the 30 hotels from the original dataset\n",
    "selected_hotels_resturants = hotel_review[hotel_review[\"Hotel/Restaurant name\"].isin(hotels_30)]"
   ]
  },
  {
   "cell_type": "code",
   "execution_count": 20,
   "id": "47144a22",
   "metadata": {},
   "outputs": [
    {
     "data": {
      "text/html": [
       "<div>\n",
       "<style scoped>\n",
       "    .dataframe tbody tr th:only-of-type {\n",
       "        vertical-align: middle;\n",
       "    }\n",
       "\n",
       "    .dataframe tbody tr th {\n",
       "        vertical-align: top;\n",
       "    }\n",
       "\n",
       "    .dataframe thead th {\n",
       "        text-align: right;\n",
       "    }\n",
       "</style>\n",
       "<table border=\"1\" class=\"dataframe\">\n",
       "  <thead>\n",
       "    <tr style=\"text-align: right;\">\n",
       "      <th></th>\n",
       "      <th>ID</th>\n",
       "      <th>Review Date</th>\n",
       "      <th>Location</th>\n",
       "      <th>Hotel/Restaurant name</th>\n",
       "      <th>Review</th>\n",
       "    </tr>\n",
       "  </thead>\n",
       "  <tbody>\n",
       "    <tr>\n",
       "      <th>200</th>\n",
       "      <td>rn580748664</td>\n",
       "      <td>Reviewed 4 days ago</td>\n",
       "      <td>Rawai</td>\n",
       "      <td>Green Tamarind Kitchen</td>\n",
       "      <td>If you want the best burger in Phuket, look no...</td>\n",
       "    </tr>\n",
       "    <tr>\n",
       "      <th>201</th>\n",
       "      <td>rn579783154</td>\n",
       "      <td>Reviewed 1 week ago</td>\n",
       "      <td>Rawai</td>\n",
       "      <td>Green Tamarind Kitchen</td>\n",
       "      <td>I have been here a couple of times now,and hav...</td>\n",
       "    </tr>\n",
       "    <tr>\n",
       "      <th>202</th>\n",
       "      <td>rn579651071</td>\n",
       "      <td>Reviewed 1 week ago</td>\n",
       "      <td>Rawai</td>\n",
       "      <td>Green Tamarind Kitchen</td>\n",
       "      <td>This place is amazing! Burgers are delicious! ...</td>\n",
       "    </tr>\n",
       "    <tr>\n",
       "      <th>203</th>\n",
       "      <td>rn574834726</td>\n",
       "      <td>Reviewed 4 weeks ago</td>\n",
       "      <td>Rawai</td>\n",
       "      <td>Green Tamarind Kitchen</td>\n",
       "      <td>This is a must when in Phuket. Their burgers r...</td>\n",
       "    </tr>\n",
       "    <tr>\n",
       "      <th>204</th>\n",
       "      <td>rn574713927</td>\n",
       "      <td>Reviewed 4 weeks ago</td>\n",
       "      <td>Rawai</td>\n",
       "      <td>Green Tamarind Kitchen</td>\n",
       "      <td>The reviews speak for themselves. This is main...</td>\n",
       "    </tr>\n",
       "    <tr>\n",
       "      <th>...</th>\n",
       "      <td>...</td>\n",
       "      <td>...</td>\n",
       "      <td>...</td>\n",
       "      <td>...</td>\n",
       "      <td>...</td>\n",
       "    </tr>\n",
       "    <tr>\n",
       "      <th>53343</th>\n",
       "      <td>rn496540215</td>\n",
       "      <td>Reviewed June 27, 2017</td>\n",
       "      <td>Karon</td>\n",
       "      <td>Khan Baba phuket</td>\n",
       "      <td>I Oder fried rice with shrimp..taste is not go...</td>\n",
       "    </tr>\n",
       "    <tr>\n",
       "      <th>53344</th>\n",
       "      <td>rn493943056</td>\n",
       "      <td>Reviewed June 18, 2017</td>\n",
       "      <td>Karon</td>\n",
       "      <td>Khan Baba phuket</td>\n",
       "      <td>From the food, to the service to the price, it...</td>\n",
       "    </tr>\n",
       "    <tr>\n",
       "      <th>53345</th>\n",
       "      <td>rn483183767</td>\n",
       "      <td>Reviewed May 10, 2017</td>\n",
       "      <td>Karon</td>\n",
       "      <td>Khan Baba phuket</td>\n",
       "      <td>If you are looking for good halal food in Phuk...</td>\n",
       "    </tr>\n",
       "    <tr>\n",
       "      <th>53346</th>\n",
       "      <td>rn473586498</td>\n",
       "      <td>Reviewed April 8, 2017</td>\n",
       "      <td>Karon</td>\n",
       "      <td>Khan Baba phuket</td>\n",
       "      <td>I don't recommend this restaurant to anyone wo...</td>\n",
       "    </tr>\n",
       "    <tr>\n",
       "      <th>53347</th>\n",
       "      <td>rn473060912</td>\n",
       "      <td>Reviewed April 5, 2017</td>\n",
       "      <td>Karon</td>\n",
       "      <td>Khan Baba phuket</td>\n",
       "      <td>We had the worst Indian food. Naan bread were ...</td>\n",
       "    </tr>\n",
       "  </tbody>\n",
       "</table>\n",
       "<p>2941 rows × 5 columns</p>\n",
       "</div>"
      ],
      "text/plain": [
       "                ID              Review Date Location   Hotel/Restaurant name  \\\n",
       "200    rn580748664     Reviewed 4 days ago     Rawai  Green Tamarind Kitchen   \n",
       "201    rn579783154     Reviewed 1 week ago     Rawai  Green Tamarind Kitchen   \n",
       "202    rn579651071     Reviewed 1 week ago     Rawai  Green Tamarind Kitchen   \n",
       "203    rn574834726    Reviewed 4 weeks ago     Rawai  Green Tamarind Kitchen   \n",
       "204    rn574713927    Reviewed 4 weeks ago     Rawai  Green Tamarind Kitchen   \n",
       "...            ...                      ...      ...                     ...   \n",
       "53343  rn496540215  Reviewed June 27, 2017     Karon        Khan Baba phuket   \n",
       "53344  rn493943056  Reviewed June 18, 2017     Karon        Khan Baba phuket   \n",
       "53345  rn483183767   Reviewed May 10, 2017     Karon        Khan Baba phuket   \n",
       "53346  rn473586498  Reviewed April 8, 2017     Karon        Khan Baba phuket   \n",
       "53347  rn473060912  Reviewed April 5, 2017     Karon        Khan Baba phuket   \n",
       "\n",
       "                                                  Review  \n",
       "200    If you want the best burger in Phuket, look no...  \n",
       "201    I have been here a couple of times now,and hav...  \n",
       "202    This place is amazing! Burgers are delicious! ...  \n",
       "203    This is a must when in Phuket. Their burgers r...  \n",
       "204    The reviews speak for themselves. This is main...  \n",
       "...                                                  ...  \n",
       "53343  I Oder fried rice with shrimp..taste is not go...  \n",
       "53344  From the food, to the service to the price, it...  \n",
       "53345  If you are looking for good halal food in Phuk...  \n",
       "53346  I don't recommend this restaurant to anyone wo...  \n",
       "53347  We had the worst Indian food. Naan bread were ...  \n",
       "\n",
       "[2941 rows x 5 columns]"
      ]
     },
     "execution_count": 20,
     "metadata": {},
     "output_type": "execute_result"
    }
   ],
   "source": [
    "selected_hotels_resturants"
   ]
  },
  {
   "cell_type": "code",
   "execution_count": 21,
   "id": "83337172",
   "metadata": {},
   "outputs": [
    {
     "data": {
      "text/html": [
       "<div>\n",
       "<style scoped>\n",
       "    .dataframe tbody tr th:only-of-type {\n",
       "        vertical-align: middle;\n",
       "    }\n",
       "\n",
       "    .dataframe tbody tr th {\n",
       "        vertical-align: top;\n",
       "    }\n",
       "\n",
       "    .dataframe thead th {\n",
       "        text-align: right;\n",
       "    }\n",
       "</style>\n",
       "<table border=\"1\" class=\"dataframe\">\n",
       "  <thead>\n",
       "    <tr style=\"text-align: right;\">\n",
       "      <th></th>\n",
       "      <th>ID</th>\n",
       "      <th>Review Date</th>\n",
       "      <th>Location</th>\n",
       "      <th>Hotel/Restaurant name</th>\n",
       "      <th>Review</th>\n",
       "    </tr>\n",
       "  </thead>\n",
       "  <tbody>\n",
       "    <tr>\n",
       "      <th>200</th>\n",
       "      <td>rn580748664</td>\n",
       "      <td>Reviewed 4 days ago</td>\n",
       "      <td>Rawai</td>\n",
       "      <td>Green Tamarind Kitchen</td>\n",
       "      <td>If you want the best burger in Phuket, look no...</td>\n",
       "    </tr>\n",
       "    <tr>\n",
       "      <th>201</th>\n",
       "      <td>rn579783154</td>\n",
       "      <td>Reviewed 1 week ago</td>\n",
       "      <td>Rawai</td>\n",
       "      <td>Green Tamarind Kitchen</td>\n",
       "      <td>I have been here a couple of times now,and hav...</td>\n",
       "    </tr>\n",
       "    <tr>\n",
       "      <th>202</th>\n",
       "      <td>rn579651071</td>\n",
       "      <td>Reviewed 1 week ago</td>\n",
       "      <td>Rawai</td>\n",
       "      <td>Green Tamarind Kitchen</td>\n",
       "      <td>This place is amazing! Burgers are delicious! ...</td>\n",
       "    </tr>\n",
       "    <tr>\n",
       "      <th>203</th>\n",
       "      <td>rn574834726</td>\n",
       "      <td>Reviewed 4 weeks ago</td>\n",
       "      <td>Rawai</td>\n",
       "      <td>Green Tamarind Kitchen</td>\n",
       "      <td>This is a must when in Phuket. Their burgers r...</td>\n",
       "    </tr>\n",
       "    <tr>\n",
       "      <th>204</th>\n",
       "      <td>rn574713927</td>\n",
       "      <td>Reviewed 4 weeks ago</td>\n",
       "      <td>Rawai</td>\n",
       "      <td>Green Tamarind Kitchen</td>\n",
       "      <td>The reviews speak for themselves. This is main...</td>\n",
       "    </tr>\n",
       "  </tbody>\n",
       "</table>\n",
       "</div>"
      ],
      "text/plain": [
       "              ID            Review Date Location   Hotel/Restaurant name  \\\n",
       "200  rn580748664   Reviewed 4 days ago     Rawai  Green Tamarind Kitchen   \n",
       "201  rn579783154   Reviewed 1 week ago     Rawai  Green Tamarind Kitchen   \n",
       "202  rn579651071   Reviewed 1 week ago     Rawai  Green Tamarind Kitchen   \n",
       "203  rn574834726  Reviewed 4 weeks ago     Rawai  Green Tamarind Kitchen   \n",
       "204  rn574713927  Reviewed 4 weeks ago     Rawai  Green Tamarind Kitchen   \n",
       "\n",
       "                                                Review  \n",
       "200  If you want the best burger in Phuket, look no...  \n",
       "201  I have been here a couple of times now,and hav...  \n",
       "202  This place is amazing! Burgers are delicious! ...  \n",
       "203  This is a must when in Phuket. Their burgers r...  \n",
       "204  The reviews speak for themselves. This is main...  "
      ]
     },
     "execution_count": 21,
     "metadata": {},
     "output_type": "execute_result"
    }
   ],
   "source": [
    "selected_hotels_resturants.head()"
   ]
  },
  {
   "cell_type": "code",
   "execution_count": 22,
   "id": "64c888d0",
   "metadata": {},
   "outputs": [
    {
     "data": {
      "text/plain": [
       "(2941, 5)"
      ]
     },
     "execution_count": 22,
     "metadata": {},
     "output_type": "execute_result"
    }
   ],
   "source": [
    "selected_hotels_resturants.shape"
   ]
  },
  {
   "cell_type": "code",
   "execution_count": 23,
   "id": "e89f4e1d",
   "metadata": {},
   "outputs": [],
   "source": [
    "# selectiong the needed columns and reset the index for ordering\n",
    "needed_columns = [\"Hotel/Restaurant name\", \"Review\"]\n",
    "hotels_resturants_30_reviews = selected_hotels_resturants[needed_columns].reset_index(drop=True)"
   ]
  },
  {
   "cell_type": "code",
   "execution_count": 24,
   "id": "f55999bc",
   "metadata": {},
   "outputs": [
    {
     "data": {
      "text/html": [
       "<div>\n",
       "<style scoped>\n",
       "    .dataframe tbody tr th:only-of-type {\n",
       "        vertical-align: middle;\n",
       "    }\n",
       "\n",
       "    .dataframe tbody tr th {\n",
       "        vertical-align: top;\n",
       "    }\n",
       "\n",
       "    .dataframe thead th {\n",
       "        text-align: right;\n",
       "    }\n",
       "</style>\n",
       "<table border=\"1\" class=\"dataframe\">\n",
       "  <thead>\n",
       "    <tr style=\"text-align: right;\">\n",
       "      <th></th>\n",
       "      <th>Hotel/Restaurant name</th>\n",
       "      <th>Review</th>\n",
       "    </tr>\n",
       "  </thead>\n",
       "  <tbody>\n",
       "    <tr>\n",
       "      <th>0</th>\n",
       "      <td>Green Tamarind Kitchen</td>\n",
       "      <td>If you want the best burger in Phuket, look no...</td>\n",
       "    </tr>\n",
       "    <tr>\n",
       "      <th>1</th>\n",
       "      <td>Green Tamarind Kitchen</td>\n",
       "      <td>I have been here a couple of times now,and hav...</td>\n",
       "    </tr>\n",
       "    <tr>\n",
       "      <th>2</th>\n",
       "      <td>Green Tamarind Kitchen</td>\n",
       "      <td>This place is amazing! Burgers are delicious! ...</td>\n",
       "    </tr>\n",
       "    <tr>\n",
       "      <th>3</th>\n",
       "      <td>Green Tamarind Kitchen</td>\n",
       "      <td>This is a must when in Phuket. Their burgers r...</td>\n",
       "    </tr>\n",
       "    <tr>\n",
       "      <th>4</th>\n",
       "      <td>Green Tamarind Kitchen</td>\n",
       "      <td>The reviews speak for themselves. This is main...</td>\n",
       "    </tr>\n",
       "    <tr>\n",
       "      <th>...</th>\n",
       "      <td>...</td>\n",
       "      <td>...</td>\n",
       "    </tr>\n",
       "    <tr>\n",
       "      <th>2936</th>\n",
       "      <td>Khan Baba phuket</td>\n",
       "      <td>I Oder fried rice with shrimp..taste is not go...</td>\n",
       "    </tr>\n",
       "    <tr>\n",
       "      <th>2937</th>\n",
       "      <td>Khan Baba phuket</td>\n",
       "      <td>From the food, to the service to the price, it...</td>\n",
       "    </tr>\n",
       "    <tr>\n",
       "      <th>2938</th>\n",
       "      <td>Khan Baba phuket</td>\n",
       "      <td>If you are looking for good halal food in Phuk...</td>\n",
       "    </tr>\n",
       "    <tr>\n",
       "      <th>2939</th>\n",
       "      <td>Khan Baba phuket</td>\n",
       "      <td>I don't recommend this restaurant to anyone wo...</td>\n",
       "    </tr>\n",
       "    <tr>\n",
       "      <th>2940</th>\n",
       "      <td>Khan Baba phuket</td>\n",
       "      <td>We had the worst Indian food. Naan bread were ...</td>\n",
       "    </tr>\n",
       "  </tbody>\n",
       "</table>\n",
       "<p>2941 rows × 2 columns</p>\n",
       "</div>"
      ],
      "text/plain": [
       "       Hotel/Restaurant name  \\\n",
       "0     Green Tamarind Kitchen   \n",
       "1     Green Tamarind Kitchen   \n",
       "2     Green Tamarind Kitchen   \n",
       "3     Green Tamarind Kitchen   \n",
       "4     Green Tamarind Kitchen   \n",
       "...                      ...   \n",
       "2936        Khan Baba phuket   \n",
       "2937        Khan Baba phuket   \n",
       "2938        Khan Baba phuket   \n",
       "2939        Khan Baba phuket   \n",
       "2940        Khan Baba phuket   \n",
       "\n",
       "                                                 Review  \n",
       "0     If you want the best burger in Phuket, look no...  \n",
       "1     I have been here a couple of times now,and hav...  \n",
       "2     This place is amazing! Burgers are delicious! ...  \n",
       "3     This is a must when in Phuket. Their burgers r...  \n",
       "4     The reviews speak for themselves. This is main...  \n",
       "...                                                 ...  \n",
       "2936  I Oder fried rice with shrimp..taste is not go...  \n",
       "2937  From the food, to the service to the price, it...  \n",
       "2938  If you are looking for good halal food in Phuk...  \n",
       "2939  I don't recommend this restaurant to anyone wo...  \n",
       "2940  We had the worst Indian food. Naan bread were ...  \n",
       "\n",
       "[2941 rows x 2 columns]"
      ]
     },
     "execution_count": 24,
     "metadata": {},
     "output_type": "execute_result"
    }
   ],
   "source": [
    "hotels_resturants_30_reviews"
   ]
  },
  {
   "cell_type": "code",
   "execution_count": 25,
   "id": "0b949972",
   "metadata": {},
   "outputs": [
    {
     "data": {
      "text/plain": [
       "Green Tamarind Kitchen               100\n",
       "Churrasco Phuket Steakhouse          100\n",
       "Nikitas Beach Restaurant             100\n",
       "Mint                                 100\n",
       "Angus O'Tool's Irish Pub             100\n",
       "The Palm Cuisine                     100\n",
       "D Wine Italian Bistro & Wine Bar     100\n",
       "PaPa Restaurant                      100\n",
       "Vitaporn                             100\n",
       "The Green Man Pub                    100\n",
       "Karlsson Restaurant & Steak House    100\n",
       "Schlusslicht                         100\n",
       "Three Crowns Restaurant & Grill      100\n",
       "A Spoonful of Sugar                  100\n",
       "O-OH Farm Ta-Eiad                    100\n",
       "Pad Thai Shop                        100\n",
       "Tandoori Flames                      100\n",
       "Pasha Kebab                           99\n",
       "Delish Cafe                           99\n",
       "Subparod Restaurant                   97\n",
       "Mookdee Seafood                       97\n",
       "Moo Restaurant                        97\n",
       "Khan Baba phuket                      97\n",
       "Coast Beach Club & Bistro Phuket      95\n",
       "Jao Jong Seafood                      95\n",
       "Khun Pha                              93\n",
       "Bob's Restaurant & Bar                93\n",
       "Norbu's Steakhouse                    93\n",
       "Le Celtique                           93\n",
       "Navrang Mahal                         93\n",
       "Name: Hotel/Restaurant name, dtype: int64"
      ]
     },
     "execution_count": 25,
     "metadata": {},
     "output_type": "execute_result"
    }
   ],
   "source": [
    "# Counting the total number of hotels \n",
    "hotels_resturants_30_reviews[\"Hotel/Restaurant name\"].value_counts()"
   ]
  },
  {
   "cell_type": "code",
   "execution_count": 26,
   "id": "f11e186c",
   "metadata": {
    "scrolled": false
   },
   "outputs": [
    {
     "data": {
      "image/png": "[encoded data removed]",
      "text/plain": [
       "<Figure size 1080x720 with 1 Axes>"
      ]
     },
     "metadata": {
      "needs_background": "light"
     },
     "output_type": "display_data"
    }
   ],
   "source": [
    "# Visualise\n",
    "plt.figure(figsize=(15, 10))\n",
    "sns.countplot(y = \"Hotel/Restaurant name\", data = hotels_resturants_30_reviews,\n",
    "             order = hotels_resturants_30_reviews[\"Hotel/Restaurant name\"].value_counts().index)\n",
    "plt.title(\"30 Hotels/ Restaurants Reviews\")\n",
    "plt.show()"
   ]
  },
  {
   "cell_type": "code",
   "execution_count": 27,
   "id": "a43aee24",
   "metadata": {},
   "outputs": [],
   "source": [
    "# Initialised stop words english version\n",
    "stop_words = nltk.corpus.stopwords.words('english')"
   ]
  },
  {
   "cell_type": "code",
   "execution_count": 28,
   "id": "24a16179",
   "metadata": {},
   "outputs": [
    {
     "name": "stdout",
     "output_type": "stream",
     "text": [
      "['i', 'me', 'my', 'myself', 'we', 'our', 'ours', 'ourselves', 'you', \"you're\", \"you've\", \"you'll\", \"you'd\", 'your', 'yours', 'yourself', 'yourselves', 'he', 'him', 'his', 'himself', 'she', \"she's\", 'her', 'hers', 'herself', 'it', \"it's\", 'its', 'itself', 'they', 'them', 'their', 'theirs', 'themselves', 'what', 'which', 'who', 'whom', 'this', 'that', \"that'll\", 'these', 'those', 'am', 'is', 'are', 'was', 'were', 'be', 'been', 'being', 'have', 'has', 'had', 'having', 'do', 'does', 'did', 'doing', 'a', 'an', 'the', 'and', 'but', 'if', 'or', 'because', 'as', 'until', 'while', 'of', 'at', 'by', 'for', 'with', 'about', 'against', 'between', 'into', 'through', 'during', 'before', 'after', 'above', 'below', 'to', 'from', 'up', 'down', 'in', 'out', 'on', 'off', 'over', 'under', 'again', 'further', 'then', 'once', 'here', 'there', 'when', 'where', 'why', 'how', 'all', 'any', 'both', 'each', 'few', 'more', 'most', 'other', 'some', 'such', 'no', 'nor', 'not', 'only', 'own', 'same', 'so', 'than', 'too', 'very', 's', 't', 'can', 'will', 'just', 'don', \"don't\", 'should', \"should've\", 'now', 'd', 'll', 'm', 'o', 're', 've', 'y', 'ain', 'aren', \"aren't\", 'couldn', \"couldn't\", 'didn', \"didn't\", 'doesn', \"doesn't\", 'hadn', \"hadn't\", 'hasn', \"hasn't\", 'haven', \"haven't\", 'isn', \"isn't\", 'ma', 'mightn', \"mightn't\", 'mustn', \"mustn't\", 'needn', \"needn't\", 'shan', \"shan't\", 'shouldn', \"shouldn't\", 'wasn', \"wasn't\", 'weren', \"weren't\", 'won', \"won't\", 'wouldn', \"wouldn't\"]\n"
     ]
    }
   ],
   "source": [
    "print(stop_words)"
   ]
  },
  {
   "cell_type": "code",
   "execution_count": 29,
   "id": "93bc0a4d",
   "metadata": {},
   "outputs": [
    {
     "data": {
      "text/plain": [
       "179"
      ]
     },
     "execution_count": 29,
     "metadata": {},
     "output_type": "execute_result"
    }
   ],
   "source": [
    "len(stop_words)"
   ]
  },
  {
   "cell_type": "code",
   "execution_count": 30,
   "id": "d88f2714",
   "metadata": {},
   "outputs": [],
   "source": [
    "# Helper function that will do all my preprocessing on my dataset using stemming\n",
    "# Function for cleaning my text data\n",
    "# that extract only alphabet using the nltk package \n",
    "# And return the extracted aplhabet \n",
    "# convert to lower case\n",
    "# stemmazied by removing regualar words from the stop_words\n",
    "def preprocess_text(text):\n",
    "    tokenized_document = nltk.tokenize.RegexpTokenizer('[a-zA-Z0-9\\']+').tokenize(text) \n",
    "    cleaned_tokens = [word.lower() for word in tokenized_document if word.lower() not in stop_words]\n",
    "    #cleaned_tokens = ' '.join([word for word in cleaned_tokens.split() if word not in stop_words])\n",
    "    stemmed_text = [nltk.stem.PorterStemmer().stem(word) for word in cleaned_tokens]\n",
    "    return stemmed_text"
   ]
  },
  {
   "cell_type": "code",
   "execution_count": 31,
   "id": "8d3c1557",
   "metadata": {},
   "outputs": [],
   "source": [
    "# applying the function on the dataset\n",
    "# To creating a new column for the clean reviews\n",
    "hotels_resturants_30_reviews.loc[:, \"processed_review\"] = hotels_resturants_30_reviews.loc[:, \"Review\"].apply(preprocess_text)"
   ]
  },
  {
   "cell_type": "code",
   "execution_count": 32,
   "id": "adb6fde2",
   "metadata": {},
   "outputs": [
    {
     "data": {
      "text/html": [
       "<div>\n",
       "<style scoped>\n",
       "    .dataframe tbody tr th:only-of-type {\n",
       "        vertical-align: middle;\n",
       "    }\n",
       "\n",
       "    .dataframe tbody tr th {\n",
       "        vertical-align: top;\n",
       "    }\n",
       "\n",
       "    .dataframe thead th {\n",
       "        text-align: right;\n",
       "    }\n",
       "</style>\n",
       "<table border=\"1\" class=\"dataframe\">\n",
       "  <thead>\n",
       "    <tr style=\"text-align: right;\">\n",
       "      <th></th>\n",
       "      <th>Hotel/Restaurant name</th>\n",
       "      <th>Review</th>\n",
       "      <th>processed_review</th>\n",
       "    </tr>\n",
       "  </thead>\n",
       "  <tbody>\n",
       "    <tr>\n",
       "      <th>0</th>\n",
       "      <td>Green Tamarind Kitchen</td>\n",
       "      <td>If you want the best burger in Phuket, look no...</td>\n",
       "      <td>[want, best, burger, phuket, look, peopl, tell...</td>\n",
       "    </tr>\n",
       "    <tr>\n",
       "      <th>1</th>\n",
       "      <td>Green Tamarind Kitchen</td>\n",
       "      <td>I have been here a couple of times now,and hav...</td>\n",
       "      <td>[coupl, time, mix, expieri, seem, right, perso...</td>\n",
       "    </tr>\n",
       "    <tr>\n",
       "      <th>2</th>\n",
       "      <td>Green Tamarind Kitchen</td>\n",
       "      <td>This place is amazing! Burgers are delicious! ...</td>\n",
       "      <td>[place, amaz, burger, delici, high, recommend,...</td>\n",
       "    </tr>\n",
       "    <tr>\n",
       "      <th>3</th>\n",
       "      <td>Green Tamarind Kitchen</td>\n",
       "      <td>This is a must when in Phuket. Their burgers r...</td>\n",
       "      <td>[must, phuket, burger, rank, top, worldwid, se...</td>\n",
       "    </tr>\n",
       "    <tr>\n",
       "      <th>4</th>\n",
       "      <td>Green Tamarind Kitchen</td>\n",
       "      <td>The reviews speak for themselves. This is main...</td>\n",
       "      <td>[review, speak, mainli, reason, went, disappoi...</td>\n",
       "    </tr>\n",
       "  </tbody>\n",
       "</table>\n",
       "</div>"
      ],
      "text/plain": [
       "    Hotel/Restaurant name                                             Review  \\\n",
       "0  Green Tamarind Kitchen  If you want the best burger in Phuket, look no...   \n",
       "1  Green Tamarind Kitchen  I have been here a couple of times now,and hav...   \n",
       "2  Green Tamarind Kitchen  This place is amazing! Burgers are delicious! ...   \n",
       "3  Green Tamarind Kitchen  This is a must when in Phuket. Their burgers r...   \n",
       "4  Green Tamarind Kitchen  The reviews speak for themselves. This is main...   \n",
       "\n",
       "                                    processed_review  \n",
       "0  [want, best, burger, phuket, look, peopl, tell...  \n",
       "1  [coupl, time, mix, expieri, seem, right, perso...  \n",
       "2  [place, amaz, burger, delici, high, recommend,...  \n",
       "3  [must, phuket, burger, rank, top, worldwid, se...  \n",
       "4  [review, speak, mainli, reason, went, disappoi...  "
      ]
     },
     "execution_count": 32,
     "metadata": {},
     "output_type": "execute_result"
    }
   ],
   "source": [
    "hotels_resturants_30_reviews.head()"
   ]
  },
  {
   "cell_type": "code",
   "execution_count": 33,
   "id": "cebdb8b7",
   "metadata": {},
   "outputs": [],
   "source": [
    "count_vectorizer = CountVectorizer(stop_words=\"english\")"
   ]
  },
  {
   "cell_type": "code",
   "execution_count": 34,
   "id": "a6742ead",
   "metadata": {},
   "outputs": [],
   "source": [
    "cv_data_reviews = count_vectorizer.fit_transform(hotels_resturants_30_reviews[\"processed_review\"].map(' '.join))"
   ]
  },
  {
   "cell_type": "code",
   "execution_count": 35,
   "id": "bcb8b4e8",
   "metadata": {},
   "outputs": [],
   "source": [
    "cv_data_reviews = pd.DataFrame(cv_data_reviews.toarray(), columns = count_vectorizer.get_feature_names())"
   ]
  },
  {
   "cell_type": "code",
   "execution_count": 36,
   "id": "a3e7db69",
   "metadata": {},
   "outputs": [
    {
     "data": {
      "text/html": [
       "<div>\n",
       "<style scoped>\n",
       "    .dataframe tbody tr th:only-of-type {\n",
       "        vertical-align: middle;\n",
       "    }\n",
       "\n",
       "    .dataframe tbody tr th {\n",
       "        vertical-align: top;\n",
       "    }\n",
       "\n",
       "    .dataframe thead th {\n",
       "        text-align: right;\n",
       "    }\n",
       "</style>\n",
       "<table border=\"1\" class=\"dataframe\">\n",
       "  <thead>\n",
       "    <tr style=\"text-align: right;\">\n",
       "      <th></th>\n",
       "      <th>00</th>\n",
       "      <th>000</th>\n",
       "      <th>0080</th>\n",
       "      <th>0081</th>\n",
       "      <th>0082</th>\n",
       "      <th>0083</th>\n",
       "      <th>0084</th>\n",
       "      <th>0087</th>\n",
       "      <th>008a</th>\n",
       "      <th>008b</th>\n",
       "      <th>...</th>\n",
       "      <th>younger</th>\n",
       "      <th>youvwil</th>\n",
       "      <th>yum</th>\n",
       "      <th>yummi</th>\n",
       "      <th>yummiest</th>\n",
       "      <th>yummo</th>\n",
       "      <th>zealand</th>\n",
       "      <th>zesti</th>\n",
       "      <th>zing</th>\n",
       "      <th>zucchini</th>\n",
       "    </tr>\n",
       "  </thead>\n",
       "  <tbody>\n",
       "    <tr>\n",
       "      <th>0</th>\n",
       "      <td>0</td>\n",
       "      <td>0</td>\n",
       "      <td>0</td>\n",
       "      <td>0</td>\n",
       "      <td>0</td>\n",
       "      <td>0</td>\n",
       "      <td>0</td>\n",
       "      <td>0</td>\n",
       "      <td>0</td>\n",
       "      <td>0</td>\n",
       "      <td>...</td>\n",
       "      <td>0</td>\n",
       "      <td>0</td>\n",
       "      <td>0</td>\n",
       "      <td>0</td>\n",
       "      <td>0</td>\n",
       "      <td>0</td>\n",
       "      <td>0</td>\n",
       "      <td>0</td>\n",
       "      <td>0</td>\n",
       "      <td>0</td>\n",
       "    </tr>\n",
       "    <tr>\n",
       "      <th>1</th>\n",
       "      <td>0</td>\n",
       "      <td>0</td>\n",
       "      <td>0</td>\n",
       "      <td>0</td>\n",
       "      <td>0</td>\n",
       "      <td>0</td>\n",
       "      <td>0</td>\n",
       "      <td>0</td>\n",
       "      <td>0</td>\n",
       "      <td>0</td>\n",
       "      <td>...</td>\n",
       "      <td>0</td>\n",
       "      <td>0</td>\n",
       "      <td>0</td>\n",
       "      <td>0</td>\n",
       "      <td>0</td>\n",
       "      <td>0</td>\n",
       "      <td>0</td>\n",
       "      <td>0</td>\n",
       "      <td>0</td>\n",
       "      <td>0</td>\n",
       "    </tr>\n",
       "    <tr>\n",
       "      <th>2</th>\n",
       "      <td>0</td>\n",
       "      <td>0</td>\n",
       "      <td>0</td>\n",
       "      <td>0</td>\n",
       "      <td>0</td>\n",
       "      <td>0</td>\n",
       "      <td>1</td>\n",
       "      <td>0</td>\n",
       "      <td>0</td>\n",
       "      <td>0</td>\n",
       "      <td>...</td>\n",
       "      <td>0</td>\n",
       "      <td>0</td>\n",
       "      <td>0</td>\n",
       "      <td>0</td>\n",
       "      <td>0</td>\n",
       "      <td>0</td>\n",
       "      <td>0</td>\n",
       "      <td>0</td>\n",
       "      <td>0</td>\n",
       "      <td>0</td>\n",
       "    </tr>\n",
       "    <tr>\n",
       "      <th>3</th>\n",
       "      <td>0</td>\n",
       "      <td>0</td>\n",
       "      <td>0</td>\n",
       "      <td>0</td>\n",
       "      <td>0</td>\n",
       "      <td>0</td>\n",
       "      <td>0</td>\n",
       "      <td>0</td>\n",
       "      <td>0</td>\n",
       "      <td>0</td>\n",
       "      <td>...</td>\n",
       "      <td>0</td>\n",
       "      <td>0</td>\n",
       "      <td>0</td>\n",
       "      <td>0</td>\n",
       "      <td>0</td>\n",
       "      <td>0</td>\n",
       "      <td>0</td>\n",
       "      <td>0</td>\n",
       "      <td>0</td>\n",
       "      <td>0</td>\n",
       "    </tr>\n",
       "    <tr>\n",
       "      <th>4</th>\n",
       "      <td>0</td>\n",
       "      <td>0</td>\n",
       "      <td>0</td>\n",
       "      <td>0</td>\n",
       "      <td>0</td>\n",
       "      <td>0</td>\n",
       "      <td>0</td>\n",
       "      <td>0</td>\n",
       "      <td>0</td>\n",
       "      <td>0</td>\n",
       "      <td>...</td>\n",
       "      <td>0</td>\n",
       "      <td>0</td>\n",
       "      <td>0</td>\n",
       "      <td>0</td>\n",
       "      <td>0</td>\n",
       "      <td>0</td>\n",
       "      <td>0</td>\n",
       "      <td>0</td>\n",
       "      <td>0</td>\n",
       "      <td>0</td>\n",
       "    </tr>\n",
       "  </tbody>\n",
       "</table>\n",
       "<p>5 rows × 4347 columns</p>\n",
       "</div>"
      ],
      "text/plain": [
       "   00  000  0080  0081  0082  0083  0084  0087  008a  008b  ...  younger  \\\n",
       "0   0    0     0     0     0     0     0     0     0     0  ...        0   \n",
       "1   0    0     0     0     0     0     0     0     0     0  ...        0   \n",
       "2   0    0     0     0     0     0     1     0     0     0  ...        0   \n",
       "3   0    0     0     0     0     0     0     0     0     0  ...        0   \n",
       "4   0    0     0     0     0     0     0     0     0     0  ...        0   \n",
       "\n",
       "   youvwil  yum  yummi  yummiest  yummo  zealand  zesti  zing  zucchini  \n",
       "0        0    0      0         0      0        0      0     0         0  \n",
       "1        0    0      0         0      0        0      0     0         0  \n",
       "2        0    0      0         0      0        0      0     0         0  \n",
       "3        0    0      0         0      0        0      0     0         0  \n",
       "4        0    0      0         0      0        0      0     0         0  \n",
       "\n",
       "[5 rows x 4347 columns]"
      ]
     },
     "execution_count": 36,
     "metadata": {},
     "output_type": "execute_result"
    }
   ],
   "source": [
    "cv_data_reviews.head()"
   ]
  },
  {
   "cell_type": "code",
   "execution_count": 37,
   "id": "82d1b163",
   "metadata": {},
   "outputs": [],
   "source": [
    "Top_15 = cv_data_reviews.sum(axis=0).sort_values(ascending=False).head(15)"
   ]
  },
  {
   "cell_type": "code",
   "execution_count": 38,
   "id": "7d65324b",
   "metadata": {},
   "outputs": [
    {
     "data": {
      "image/png": "[encoded data removed]",
      "text/plain": [
       "<Figure size 432x288 with 1 Axes>"
      ]
     },
     "metadata": {
      "needs_background": "light"
     },
     "output_type": "display_data"
    }
   ],
   "source": [
    "# plot the corpus\n",
    "sns.barplot(x = Top_15.index, y = Top_15.values)\n",
    "plt.xticks(rotation = 90)\n",
    "plt.show()"
   ]
  },
  {
   "cell_type": "markdown",
   "id": "97258cb5",
   "metadata": {},
   "source": [
    "## Using word cloud to show how it appears on corpus"
   ]
  },
  {
   "cell_type": "code",
   "execution_count": 39,
   "id": "9df4ae0c",
   "metadata": {},
   "outputs": [
    {
     "data": {
      "text/plain": [
       "0       [want, best, burger, phuket, look, peopl, tell...\n",
       "1       [coupl, time, mix, expieri, seem, right, perso...\n",
       "2       [place, amaz, burger, delici, high, recommend,...\n",
       "3       [must, phuket, burger, rank, top, worldwid, se...\n",
       "4       [review, speak, mainli, reason, went, disappoi...\n",
       "                              ...                        \n",
       "2936    [oder, fri, rice, shrimp, tast, good, price, h...\n",
       "2937    [food, servic, price, unpleas, place, read, re...\n",
       "2938    [look, good, halal, food, phuket, come, safe, ...\n",
       "2939    [recommend, restaur, anyon, worst, food, servi...\n",
       "2940    [worst, indian, food, naan, bread, worst, one,...\n",
       "Name: processed_review, Length: 2941, dtype: object"
      ]
     },
     "execution_count": 39,
     "metadata": {},
     "output_type": "execute_result"
    }
   ],
   "source": [
    "hotels_resturants_30_reviews[\"processed_review\"]"
   ]
  },
  {
   "cell_type": "code",
   "execution_count": 40,
   "id": "3f01bc80",
   "metadata": {
    "scrolled": false
   },
   "outputs": [],
   "source": [
    "all_reviews_word = ' '.join(' '.join(i) for i in hotels_resturants_30_reviews[\"processed_review\"])\n",
    "#''.join(''.join(l) for l in my_list)"
   ]
  },
  {
   "cell_type": "code",
   "execution_count": 41,
   "id": "c0a4aa95",
   "metadata": {},
   "outputs": [],
   "source": [
    "def display_cloud(wc):\n",
    "    plt.figure(figsize=(12,6))\n",
    "    plt.imshow(wc, interpolation=\"bilinear\")\n",
    "    plt.title(\"Frequetly Used Words\")\n",
    "    plt.axis(\"off\")\n",
    "    plt.show()"
   ]
  },
  {
   "cell_type": "code",
   "execution_count": 42,
   "id": "6b0f7218",
   "metadata": {},
   "outputs": [
    {
     "data": {
      "image/png": "[encoded data removed]",
      "text/plain": [
       "<Figure size 864x432 with 1 Axes>"
      ]
     },
     "metadata": {
      "needs_background": "light"
     },
     "output_type": "display_data"
    }
   ],
   "source": [
    "word_cloud = WordCloud(background_color=\"white\", colormap=\"Dark2\", \n",
    "               collocations=True, \n",
    "               random_state=42, ).generate(all_reviews_word)\n",
    "display_cloud(word_cloud)"
   ]
  },
  {
   "cell_type": "markdown",
   "id": "29ca5a2d",
   "metadata": {},
   "source": [
    "### Sentiment Analysis Classification"
   ]
  },
  {
   "cell_type": "code",
   "execution_count": 43,
   "id": "ebae1b5e",
   "metadata": {},
   "outputs": [],
   "source": [
    "sentiment = SentimentIntensityAnalyzer()"
   ]
  },
  {
   "cell_type": "code",
   "execution_count": 44,
   "id": "c6b462e6",
   "metadata": {
    "scrolled": true
   },
   "outputs": [],
   "source": [
    "hotels_resturants_30_reviews[\"compound\"] = [sentiment.polarity_scores(review)[\"compound\"] for review in hotels_resturants_30_reviews[\"Review\"]]\n",
    "hotels_resturants_30_reviews[\"neg\"] = [sentiment.polarity_scores(review)[\"neg\"] for review in hotels_resturants_30_reviews[\"Review\"]]\n",
    "hotels_resturants_30_reviews[\"pos\"] = [sentiment.polarity_scores(review)[\"pos\"] for review in hotels_resturants_30_reviews[\"Review\"]]\n",
    "hotels_resturants_30_reviews[\"neu\"] = [sentiment.polarity_scores(review)[\"neu\"] for review in hotels_resturants_30_reviews[\"Review\"]]\n"
   ]
  },
  {
   "cell_type": "code",
   "execution_count": 45,
   "id": "63b57496",
   "metadata": {},
   "outputs": [
    {
     "data": {
      "text/html": [
       "<div>\n",
       "<style scoped>\n",
       "    .dataframe tbody tr th:only-of-type {\n",
       "        vertical-align: middle;\n",
       "    }\n",
       "\n",
       "    .dataframe tbody tr th {\n",
       "        vertical-align: top;\n",
       "    }\n",
       "\n",
       "    .dataframe thead th {\n",
       "        text-align: right;\n",
       "    }\n",
       "</style>\n",
       "<table border=\"1\" class=\"dataframe\">\n",
       "  <thead>\n",
       "    <tr style=\"text-align: right;\">\n",
       "      <th></th>\n",
       "      <th>Hotel/Restaurant name</th>\n",
       "      <th>Review</th>\n",
       "      <th>processed_review</th>\n",
       "      <th>compound</th>\n",
       "      <th>neg</th>\n",
       "      <th>pos</th>\n",
       "      <th>neu</th>\n",
       "    </tr>\n",
       "  </thead>\n",
       "  <tbody>\n",
       "    <tr>\n",
       "      <th>0</th>\n",
       "      <td>Green Tamarind Kitchen</td>\n",
       "      <td>If you want the best burger in Phuket, look no...</td>\n",
       "      <td>[want, best, burger, phuket, look, peopl, tell...</td>\n",
       "      <td>0.9381</td>\n",
       "      <td>0.040</td>\n",
       "      <td>0.304</td>\n",
       "      <td>0.656</td>\n",
       "    </tr>\n",
       "    <tr>\n",
       "      <th>1</th>\n",
       "      <td>Green Tamarind Kitchen</td>\n",
       "      <td>I have been here a couple of times now,and hav...</td>\n",
       "      <td>[coupl, time, mix, expieri, seem, right, perso...</td>\n",
       "      <td>0.0000</td>\n",
       "      <td>0.000</td>\n",
       "      <td>0.000</td>\n",
       "      <td>1.000</td>\n",
       "    </tr>\n",
       "    <tr>\n",
       "      <th>2</th>\n",
       "      <td>Green Tamarind Kitchen</td>\n",
       "      <td>This place is amazing! Burgers are delicious! ...</td>\n",
       "      <td>[place, amaz, burger, delici, high, recommend,...</td>\n",
       "      <td>0.8800</td>\n",
       "      <td>0.000</td>\n",
       "      <td>0.404</td>\n",
       "      <td>0.596</td>\n",
       "    </tr>\n",
       "    <tr>\n",
       "      <th>3</th>\n",
       "      <td>Green Tamarind Kitchen</td>\n",
       "      <td>This is a must when in Phuket. Their burgers r...</td>\n",
       "      <td>[must, phuket, burger, rank, top, worldwid, se...</td>\n",
       "      <td>0.6908</td>\n",
       "      <td>0.000</td>\n",
       "      <td>0.168</td>\n",
       "      <td>0.832</td>\n",
       "    </tr>\n",
       "    <tr>\n",
       "      <th>4</th>\n",
       "      <td>Green Tamarind Kitchen</td>\n",
       "      <td>The reviews speak for themselves. This is main...</td>\n",
       "      <td>[review, speak, mainli, reason, went, disappoi...</td>\n",
       "      <td>-0.1280</td>\n",
       "      <td>0.058</td>\n",
       "      <td>0.047</td>\n",
       "      <td>0.896</td>\n",
       "    </tr>\n",
       "    <tr>\n",
       "      <th>...</th>\n",
       "      <td>...</td>\n",
       "      <td>...</td>\n",
       "      <td>...</td>\n",
       "      <td>...</td>\n",
       "      <td>...</td>\n",
       "      <td>...</td>\n",
       "      <td>...</td>\n",
       "    </tr>\n",
       "    <tr>\n",
       "      <th>2936</th>\n",
       "      <td>Khan Baba phuket</td>\n",
       "      <td>I Oder fried rice with shrimp..taste is not go...</td>\n",
       "      <td>[oder, fri, rice, shrimp, tast, good, price, h...</td>\n",
       "      <td>0.3065</td>\n",
       "      <td>0.038</td>\n",
       "      <td>0.066</td>\n",
       "      <td>0.896</td>\n",
       "    </tr>\n",
       "    <tr>\n",
       "      <th>2937</th>\n",
       "      <td>Khan Baba phuket</td>\n",
       "      <td>From the food, to the service to the price, it...</td>\n",
       "      <td>[food, servic, price, unpleas, place, read, re...</td>\n",
       "      <td>-0.8555</td>\n",
       "      <td>0.198</td>\n",
       "      <td>0.000</td>\n",
       "      <td>0.802</td>\n",
       "    </tr>\n",
       "    <tr>\n",
       "      <th>2938</th>\n",
       "      <td>Khan Baba phuket</td>\n",
       "      <td>If you are looking for good halal food in Phuk...</td>\n",
       "      <td>[look, good, halal, food, phuket, come, safe, ...</td>\n",
       "      <td>0.5848</td>\n",
       "      <td>0.076</td>\n",
       "      <td>0.151</td>\n",
       "      <td>0.773</td>\n",
       "    </tr>\n",
       "    <tr>\n",
       "      <th>2939</th>\n",
       "      <td>Khan Baba phuket</td>\n",
       "      <td>I don't recommend this restaurant to anyone wo...</td>\n",
       "      <td>[recommend, restaur, anyon, worst, food, servi...</td>\n",
       "      <td>-0.8485</td>\n",
       "      <td>0.456</td>\n",
       "      <td>0.000</td>\n",
       "      <td>0.544</td>\n",
       "    </tr>\n",
       "    <tr>\n",
       "      <th>2940</th>\n",
       "      <td>Khan Baba phuket</td>\n",
       "      <td>We had the worst Indian food. Naan bread were ...</td>\n",
       "      <td>[worst, indian, food, naan, bread, worst, one,...</td>\n",
       "      <td>-0.8836</td>\n",
       "      <td>0.300</td>\n",
       "      <td>0.000</td>\n",
       "      <td>0.700</td>\n",
       "    </tr>\n",
       "  </tbody>\n",
       "</table>\n",
       "<p>2941 rows × 7 columns</p>\n",
       "</div>"
      ],
      "text/plain": [
       "       Hotel/Restaurant name  \\\n",
       "0     Green Tamarind Kitchen   \n",
       "1     Green Tamarind Kitchen   \n",
       "2     Green Tamarind Kitchen   \n",
       "3     Green Tamarind Kitchen   \n",
       "4     Green Tamarind Kitchen   \n",
       "...                      ...   \n",
       "2936        Khan Baba phuket   \n",
       "2937        Khan Baba phuket   \n",
       "2938        Khan Baba phuket   \n",
       "2939        Khan Baba phuket   \n",
       "2940        Khan Baba phuket   \n",
       "\n",
       "                                                 Review  \\\n",
       "0     If you want the best burger in Phuket, look no...   \n",
       "1     I have been here a couple of times now,and hav...   \n",
       "2     This place is amazing! Burgers are delicious! ...   \n",
       "3     This is a must when in Phuket. Their burgers r...   \n",
       "4     The reviews speak for themselves. This is main...   \n",
       "...                                                 ...   \n",
       "2936  I Oder fried rice with shrimp..taste is not go...   \n",
       "2937  From the food, to the service to the price, it...   \n",
       "2938  If you are looking for good halal food in Phuk...   \n",
       "2939  I don't recommend this restaurant to anyone wo...   \n",
       "2940  We had the worst Indian food. Naan bread were ...   \n",
       "\n",
       "                                       processed_review  compound    neg  \\\n",
       "0     [want, best, burger, phuket, look, peopl, tell...    0.9381  0.040   \n",
       "1     [coupl, time, mix, expieri, seem, right, perso...    0.0000  0.000   \n",
       "2     [place, amaz, burger, delici, high, recommend,...    0.8800  0.000   \n",
       "3     [must, phuket, burger, rank, top, worldwid, se...    0.6908  0.000   \n",
       "4     [review, speak, mainli, reason, went, disappoi...   -0.1280  0.058   \n",
       "...                                                 ...       ...    ...   \n",
       "2936  [oder, fri, rice, shrimp, tast, good, price, h...    0.3065  0.038   \n",
       "2937  [food, servic, price, unpleas, place, read, re...   -0.8555  0.198   \n",
       "2938  [look, good, halal, food, phuket, come, safe, ...    0.5848  0.076   \n",
       "2939  [recommend, restaur, anyon, worst, food, servi...   -0.8485  0.456   \n",
       "2940  [worst, indian, food, naan, bread, worst, one,...   -0.8836  0.300   \n",
       "\n",
       "        pos    neu  \n",
       "0     0.304  0.656  \n",
       "1     0.000  1.000  \n",
       "2     0.404  0.596  \n",
       "3     0.168  0.832  \n",
       "4     0.047  0.896  \n",
       "...     ...    ...  \n",
       "2936  0.066  0.896  \n",
       "2937  0.000  0.802  \n",
       "2938  0.151  0.773  \n",
       "2939  0.000  0.544  \n",
       "2940  0.000  0.700  \n",
       "\n",
       "[2941 rows x 7 columns]"
      ]
     },
     "execution_count": 45,
     "metadata": {},
     "output_type": "execute_result"
    }
   ],
   "source": [
    "hotels_resturants_30_reviews"
   ]
  },
  {
   "cell_type": "code",
   "execution_count": 46,
   "id": "dd2b83f0",
   "metadata": {},
   "outputs": [
    {
     "data": {
      "text/html": [
       "<div>\n",
       "<style scoped>\n",
       "    .dataframe tbody tr th:only-of-type {\n",
       "        vertical-align: middle;\n",
       "    }\n",
       "\n",
       "    .dataframe tbody tr th {\n",
       "        vertical-align: top;\n",
       "    }\n",
       "\n",
       "    .dataframe thead th {\n",
       "        text-align: right;\n",
       "    }\n",
       "</style>\n",
       "<table border=\"1\" class=\"dataframe\">\n",
       "  <thead>\n",
       "    <tr style=\"text-align: right;\">\n",
       "      <th></th>\n",
       "      <th>compound</th>\n",
       "      <th>neg</th>\n",
       "      <th>pos</th>\n",
       "      <th>neu</th>\n",
       "    </tr>\n",
       "  </thead>\n",
       "  <tbody>\n",
       "    <tr>\n",
       "      <th>0</th>\n",
       "      <td>0.9381</td>\n",
       "      <td>0.040</td>\n",
       "      <td>0.304</td>\n",
       "      <td>0.656</td>\n",
       "    </tr>\n",
       "    <tr>\n",
       "      <th>1</th>\n",
       "      <td>0.0000</td>\n",
       "      <td>0.000</td>\n",
       "      <td>0.000</td>\n",
       "      <td>1.000</td>\n",
       "    </tr>\n",
       "    <tr>\n",
       "      <th>2</th>\n",
       "      <td>0.8800</td>\n",
       "      <td>0.000</td>\n",
       "      <td>0.404</td>\n",
       "      <td>0.596</td>\n",
       "    </tr>\n",
       "    <tr>\n",
       "      <th>3</th>\n",
       "      <td>0.6908</td>\n",
       "      <td>0.000</td>\n",
       "      <td>0.168</td>\n",
       "      <td>0.832</td>\n",
       "    </tr>\n",
       "    <tr>\n",
       "      <th>4</th>\n",
       "      <td>-0.1280</td>\n",
       "      <td>0.058</td>\n",
       "      <td>0.047</td>\n",
       "      <td>0.896</td>\n",
       "    </tr>\n",
       "    <tr>\n",
       "      <th>...</th>\n",
       "      <td>...</td>\n",
       "      <td>...</td>\n",
       "      <td>...</td>\n",
       "      <td>...</td>\n",
       "    </tr>\n",
       "    <tr>\n",
       "      <th>2936</th>\n",
       "      <td>0.3065</td>\n",
       "      <td>0.038</td>\n",
       "      <td>0.066</td>\n",
       "      <td>0.896</td>\n",
       "    </tr>\n",
       "    <tr>\n",
       "      <th>2937</th>\n",
       "      <td>-0.8555</td>\n",
       "      <td>0.198</td>\n",
       "      <td>0.000</td>\n",
       "      <td>0.802</td>\n",
       "    </tr>\n",
       "    <tr>\n",
       "      <th>2938</th>\n",
       "      <td>0.5848</td>\n",
       "      <td>0.076</td>\n",
       "      <td>0.151</td>\n",
       "      <td>0.773</td>\n",
       "    </tr>\n",
       "    <tr>\n",
       "      <th>2939</th>\n",
       "      <td>-0.8485</td>\n",
       "      <td>0.456</td>\n",
       "      <td>0.000</td>\n",
       "      <td>0.544</td>\n",
       "    </tr>\n",
       "    <tr>\n",
       "      <th>2940</th>\n",
       "      <td>-0.8836</td>\n",
       "      <td>0.300</td>\n",
       "      <td>0.000</td>\n",
       "      <td>0.700</td>\n",
       "    </tr>\n",
       "  </tbody>\n",
       "</table>\n",
       "<p>2941 rows × 4 columns</p>\n",
       "</div>"
      ],
      "text/plain": [
       "      compound    neg    pos    neu\n",
       "0       0.9381  0.040  0.304  0.656\n",
       "1       0.0000  0.000  0.000  1.000\n",
       "2       0.8800  0.000  0.404  0.596\n",
       "3       0.6908  0.000  0.168  0.832\n",
       "4      -0.1280  0.058  0.047  0.896\n",
       "...        ...    ...    ...    ...\n",
       "2936    0.3065  0.038  0.066  0.896\n",
       "2937   -0.8555  0.198  0.000  0.802\n",
       "2938    0.5848  0.076  0.151  0.773\n",
       "2939   -0.8485  0.456  0.000  0.544\n",
       "2940   -0.8836  0.300  0.000  0.700\n",
       "\n",
       "[2941 rows x 4 columns]"
      ]
     },
     "execution_count": 46,
     "metadata": {},
     "output_type": "execute_result"
    }
   ],
   "source": [
    "hotels_resturants_30_reviews[[\"compound\", \"neg\", \"pos\", \"neu\"]]"
   ]
  },
  {
   "cell_type": "code",
   "execution_count": 47,
   "id": "fe9b3388",
   "metadata": {},
   "outputs": [
    {
     "data": {
      "text/html": [
       "<div>\n",
       "<style scoped>\n",
       "    .dataframe tbody tr th:only-of-type {\n",
       "        vertical-align: middle;\n",
       "    }\n",
       "\n",
       "    .dataframe tbody tr th {\n",
       "        vertical-align: top;\n",
       "    }\n",
       "\n",
       "    .dataframe thead th {\n",
       "        text-align: right;\n",
       "    }\n",
       "</style>\n",
       "<table border=\"1\" class=\"dataframe\">\n",
       "  <thead>\n",
       "    <tr style=\"text-align: right;\">\n",
       "      <th></th>\n",
       "      <th>compound</th>\n",
       "      <th>neg</th>\n",
       "      <th>pos</th>\n",
       "      <th>neu</th>\n",
       "    </tr>\n",
       "  </thead>\n",
       "  <tbody>\n",
       "    <tr>\n",
       "      <th>count</th>\n",
       "      <td>2941.000000</td>\n",
       "      <td>2941.000000</td>\n",
       "      <td>2941.000000</td>\n",
       "      <td>2941.000000</td>\n",
       "    </tr>\n",
       "    <tr>\n",
       "      <th>mean</th>\n",
       "      <td>0.667983</td>\n",
       "      <td>0.026172</td>\n",
       "      <td>0.234224</td>\n",
       "      <td>0.739604</td>\n",
       "    </tr>\n",
       "    <tr>\n",
       "      <th>std</th>\n",
       "      <td>0.411290</td>\n",
       "      <td>0.050998</td>\n",
       "      <td>0.135299</td>\n",
       "      <td>0.127123</td>\n",
       "    </tr>\n",
       "    <tr>\n",
       "      <th>min</th>\n",
       "      <td>-0.966200</td>\n",
       "      <td>0.000000</td>\n",
       "      <td>0.000000</td>\n",
       "      <td>0.277000</td>\n",
       "    </tr>\n",
       "    <tr>\n",
       "      <th>25%</th>\n",
       "      <td>0.592700</td>\n",
       "      <td>0.000000</td>\n",
       "      <td>0.136000</td>\n",
       "      <td>0.656000</td>\n",
       "    </tr>\n",
       "    <tr>\n",
       "      <th>50%</th>\n",
       "      <td>0.848100</td>\n",
       "      <td>0.000000</td>\n",
       "      <td>0.226000</td>\n",
       "      <td>0.749000</td>\n",
       "    </tr>\n",
       "    <tr>\n",
       "      <th>75%</th>\n",
       "      <td>0.928000</td>\n",
       "      <td>0.041000</td>\n",
       "      <td>0.325000</td>\n",
       "      <td>0.831000</td>\n",
       "    </tr>\n",
       "    <tr>\n",
       "      <th>max</th>\n",
       "      <td>0.990700</td>\n",
       "      <td>0.456000</td>\n",
       "      <td>0.723000</td>\n",
       "      <td>1.000000</td>\n",
       "    </tr>\n",
       "  </tbody>\n",
       "</table>\n",
       "</div>"
      ],
      "text/plain": [
       "          compound          neg          pos          neu\n",
       "count  2941.000000  2941.000000  2941.000000  2941.000000\n",
       "mean      0.667983     0.026172     0.234224     0.739604\n",
       "std       0.411290     0.050998     0.135299     0.127123\n",
       "min      -0.966200     0.000000     0.000000     0.277000\n",
       "25%       0.592700     0.000000     0.136000     0.656000\n",
       "50%       0.848100     0.000000     0.226000     0.749000\n",
       "75%       0.928000     0.041000     0.325000     0.831000\n",
       "max       0.990700     0.456000     0.723000     1.000000"
      ]
     },
     "execution_count": 47,
     "metadata": {},
     "output_type": "execute_result"
    }
   ],
   "source": [
    "hotels_resturants_30_reviews[[\"compound\", \"neg\", \"pos\", \"neu\"]].describe()"
   ]
  },
  {
   "cell_type": "code",
   "execution_count": 48,
   "id": "1f0300a1",
   "metadata": {},
   "outputs": [
    {
     "data": {
      "image/png": "[encoded data removed]",
      "text/plain": [
       "<Figure size 432x288 with 1 Axes>"
      ]
     },
     "metadata": {
      "needs_background": "light"
     },
     "output_type": "display_data"
    }
   ],
   "source": [
    "sns.histplot(hotels_resturants_30_reviews[\"compound\"]) # strong positice sentiment\n",
    "plt.show()"
   ]
  },
  {
   "cell_type": "code",
   "execution_count": 49,
   "id": "c12addee",
   "metadata": {},
   "outputs": [
    {
     "data": {
      "image/png": "[encoded data removed]",
      "text/plain": [
       "<Figure size 432x288 with 1 Axes>"
      ]
     },
     "metadata": {
      "needs_background": "light"
     },
     "output_type": "display_data"
    }
   ],
   "source": [
    "sns.histplot(hotels_resturants_30_reviews[\"pos\"])\n",
    "plt.show()"
   ]
  },
  {
   "cell_type": "code",
   "execution_count": 50,
   "id": "05ac9c47",
   "metadata": {},
   "outputs": [
    {
     "data": {
      "image/png": "[encoded data removed]",
      "text/plain": [
       "<Figure size 432x288 with 1 Axes>"
      ]
     },
     "metadata": {
      "needs_background": "light"
     },
     "output_type": "display_data"
    }
   ],
   "source": [
    "sns.histplot(hotels_resturants_30_reviews[\"neg\"])\n",
    "plt.show()"
   ]
  },
  {
   "cell_type": "code",
   "execution_count": 51,
   "id": "4464983d",
   "metadata": {},
   "outputs": [],
   "source": [
    "#hotels_resturants_30_reviews[\"processes_review\"] = hotels_resturants_30_reviews[\"Review\"].apply(preprocess_text)"
   ]
  },
  {
   "cell_type": "code",
   "execution_count": 52,
   "id": "d1b2ae4b",
   "metadata": {},
   "outputs": [],
   "source": [
    "pos_rev_part = hotels_resturants_30_reviews.loc[hotels_resturants_30_reviews[\"compound\"] > 0]"
   ]
  },
  {
   "cell_type": "code",
   "execution_count": 53,
   "id": "0e85670b",
   "metadata": {},
   "outputs": [
    {
     "data": {
      "text/html": [
       "<div>\n",
       "<style scoped>\n",
       "    .dataframe tbody tr th:only-of-type {\n",
       "        vertical-align: middle;\n",
       "    }\n",
       "\n",
       "    .dataframe tbody tr th {\n",
       "        vertical-align: top;\n",
       "    }\n",
       "\n",
       "    .dataframe thead th {\n",
       "        text-align: right;\n",
       "    }\n",
       "</style>\n",
       "<table border=\"1\" class=\"dataframe\">\n",
       "  <thead>\n",
       "    <tr style=\"text-align: right;\">\n",
       "      <th></th>\n",
       "      <th>Hotel/Restaurant name</th>\n",
       "      <th>Review</th>\n",
       "      <th>processed_review</th>\n",
       "      <th>compound</th>\n",
       "      <th>neg</th>\n",
       "      <th>pos</th>\n",
       "      <th>neu</th>\n",
       "    </tr>\n",
       "  </thead>\n",
       "  <tbody>\n",
       "    <tr>\n",
       "      <th>0</th>\n",
       "      <td>Green Tamarind Kitchen</td>\n",
       "      <td>If you want the best burger in Phuket, look no...</td>\n",
       "      <td>[want, best, burger, phuket, look, peopl, tell...</td>\n",
       "      <td>0.9381</td>\n",
       "      <td>0.04</td>\n",
       "      <td>0.304</td>\n",
       "      <td>0.656</td>\n",
       "    </tr>\n",
       "    <tr>\n",
       "      <th>2</th>\n",
       "      <td>Green Tamarind Kitchen</td>\n",
       "      <td>This place is amazing! Burgers are delicious! ...</td>\n",
       "      <td>[place, amaz, burger, delici, high, recommend,...</td>\n",
       "      <td>0.8800</td>\n",
       "      <td>0.00</td>\n",
       "      <td>0.404</td>\n",
       "      <td>0.596</td>\n",
       "    </tr>\n",
       "    <tr>\n",
       "      <th>3</th>\n",
       "      <td>Green Tamarind Kitchen</td>\n",
       "      <td>This is a must when in Phuket. Their burgers r...</td>\n",
       "      <td>[must, phuket, burger, rank, top, worldwid, se...</td>\n",
       "      <td>0.6908</td>\n",
       "      <td>0.00</td>\n",
       "      <td>0.168</td>\n",
       "      <td>0.832</td>\n",
       "    </tr>\n",
       "    <tr>\n",
       "      <th>5</th>\n",
       "      <td>Green Tamarind Kitchen</td>\n",
       "      <td>Fancied a change from Thai food and had been t...</td>\n",
       "      <td>[fanci, chang, thai, food, told, place, excel,...</td>\n",
       "      <td>0.9312</td>\n",
       "      <td>0.00</td>\n",
       "      <td>0.309</td>\n",
       "      <td>0.691</td>\n",
       "    </tr>\n",
       "    <tr>\n",
       "      <th>7</th>\n",
       "      <td>Green Tamarind Kitchen</td>\n",
       "      <td>Restaurant open at five pm, as soon it open it...</td>\n",
       "      <td>[restaur, open, five, pm, soon, open, fill, cu...</td>\n",
       "      <td>0.7759</td>\n",
       "      <td>0.00</td>\n",
       "      <td>0.159</td>\n",
       "      <td>0.841</td>\n",
       "    </tr>\n",
       "  </tbody>\n",
       "</table>\n",
       "</div>"
      ],
      "text/plain": [
       "    Hotel/Restaurant name                                             Review  \\\n",
       "0  Green Tamarind Kitchen  If you want the best burger in Phuket, look no...   \n",
       "2  Green Tamarind Kitchen  This place is amazing! Burgers are delicious! ...   \n",
       "3  Green Tamarind Kitchen  This is a must when in Phuket. Their burgers r...   \n",
       "5  Green Tamarind Kitchen  Fancied a change from Thai food and had been t...   \n",
       "7  Green Tamarind Kitchen  Restaurant open at five pm, as soon it open it...   \n",
       "\n",
       "                                    processed_review  compound   neg    pos  \\\n",
       "0  [want, best, burger, phuket, look, peopl, tell...    0.9381  0.04  0.304   \n",
       "2  [place, amaz, burger, delici, high, recommend,...    0.8800  0.00  0.404   \n",
       "3  [must, phuket, burger, rank, top, worldwid, se...    0.6908  0.00  0.168   \n",
       "5  [fanci, chang, thai, food, told, place, excel,...    0.9312  0.00  0.309   \n",
       "7  [restaur, open, five, pm, soon, open, fill, cu...    0.7759  0.00  0.159   \n",
       "\n",
       "     neu  \n",
       "0  0.656  \n",
       "2  0.596  \n",
       "3  0.832  \n",
       "5  0.691  \n",
       "7  0.841  "
      ]
     },
     "execution_count": 53,
     "metadata": {},
     "output_type": "execute_result"
    }
   ],
   "source": [
    "pos_rev_part.head()"
   ]
  },
  {
   "cell_type": "code",
   "execution_count": 54,
   "id": "5fb42fd1",
   "metadata": {},
   "outputs": [],
   "source": [
    "neg_rev_part  = hotels_resturants_30_reviews.loc[hotels_resturants_30_reviews[\"compound\"] <= 0]"
   ]
  },
  {
   "cell_type": "code",
   "execution_count": 55,
   "id": "8f0f47e1",
   "metadata": {},
   "outputs": [
    {
     "data": {
      "text/html": [
       "<div>\n",
       "<style scoped>\n",
       "    .dataframe tbody tr th:only-of-type {\n",
       "        vertical-align: middle;\n",
       "    }\n",
       "\n",
       "    .dataframe tbody tr th {\n",
       "        vertical-align: top;\n",
       "    }\n",
       "\n",
       "    .dataframe thead th {\n",
       "        text-align: right;\n",
       "    }\n",
       "</style>\n",
       "<table border=\"1\" class=\"dataframe\">\n",
       "  <thead>\n",
       "    <tr style=\"text-align: right;\">\n",
       "      <th></th>\n",
       "      <th>Hotel/Restaurant name</th>\n",
       "      <th>Review</th>\n",
       "      <th>processed_review</th>\n",
       "      <th>compound</th>\n",
       "      <th>neg</th>\n",
       "      <th>pos</th>\n",
       "      <th>neu</th>\n",
       "    </tr>\n",
       "  </thead>\n",
       "  <tbody>\n",
       "    <tr>\n",
       "      <th>1</th>\n",
       "      <td>Green Tamarind Kitchen</td>\n",
       "      <td>I have been here a couple of times now,and hav...</td>\n",
       "      <td>[coupl, time, mix, expieri, seem, right, perso...</td>\n",
       "      <td>0.0000</td>\n",
       "      <td>0.000</td>\n",
       "      <td>0.000</td>\n",
       "      <td>1.000</td>\n",
       "    </tr>\n",
       "    <tr>\n",
       "      <th>4</th>\n",
       "      <td>Green Tamarind Kitchen</td>\n",
       "      <td>The reviews speak for themselves. This is main...</td>\n",
       "      <td>[review, speak, mainli, reason, went, disappoi...</td>\n",
       "      <td>-0.1280</td>\n",
       "      <td>0.058</td>\n",
       "      <td>0.047</td>\n",
       "      <td>0.896</td>\n",
       "    </tr>\n",
       "    <tr>\n",
       "      <th>6</th>\n",
       "      <td>Green Tamarind Kitchen</td>\n",
       "      <td>Limited parking is available opposite, but get...</td>\n",
       "      <td>[limit, park, avail, opposit, get, earli, avoi...</td>\n",
       "      <td>-0.0414</td>\n",
       "      <td>0.131</td>\n",
       "      <td>0.096</td>\n",
       "      <td>0.773</td>\n",
       "    </tr>\n",
       "    <tr>\n",
       "      <th>27</th>\n",
       "      <td>Green Tamarind Kitchen</td>\n",
       "      <td>I've been in Asia for 7 years and have had bet...</td>\n",
       "      <td>[i'v, asia, 7, year, better, burger, can't, sa...</td>\n",
       "      <td>-0.7650</td>\n",
       "      <td>0.156</td>\n",
       "      <td>0.040</td>\n",
       "      <td>0.804</td>\n",
       "    </tr>\n",
       "    <tr>\n",
       "      <th>43</th>\n",
       "      <td>Green Tamarind Kitchen</td>\n",
       "      <td>Well done guys met a friend here from the USA ...</td>\n",
       "      <td>[well, done, guy, met, friend, usa, home, burg...</td>\n",
       "      <td>-0.3339</td>\n",
       "      <td>0.166</td>\n",
       "      <td>0.159</td>\n",
       "      <td>0.675</td>\n",
       "    </tr>\n",
       "  </tbody>\n",
       "</table>\n",
       "</div>"
      ],
      "text/plain": [
       "     Hotel/Restaurant name                                             Review  \\\n",
       "1   Green Tamarind Kitchen  I have been here a couple of times now,and hav...   \n",
       "4   Green Tamarind Kitchen  The reviews speak for themselves. This is main...   \n",
       "6   Green Tamarind Kitchen  Limited parking is available opposite, but get...   \n",
       "27  Green Tamarind Kitchen  I've been in Asia for 7 years and have had bet...   \n",
       "43  Green Tamarind Kitchen  Well done guys met a friend here from the USA ...   \n",
       "\n",
       "                                     processed_review  compound    neg    pos  \\\n",
       "1   [coupl, time, mix, expieri, seem, right, perso...    0.0000  0.000  0.000   \n",
       "4   [review, speak, mainli, reason, went, disappoi...   -0.1280  0.058  0.047   \n",
       "6   [limit, park, avail, opposit, get, earli, avoi...   -0.0414  0.131  0.096   \n",
       "27  [i'v, asia, 7, year, better, burger, can't, sa...   -0.7650  0.156  0.040   \n",
       "43  [well, done, guy, met, friend, usa, home, burg...   -0.3339  0.166  0.159   \n",
       "\n",
       "      neu  \n",
       "1   1.000  \n",
       "4   0.896  \n",
       "6   0.773  \n",
       "27  0.804  \n",
       "43  0.675  "
      ]
     },
     "execution_count": 55,
     "metadata": {},
     "output_type": "execute_result"
    }
   ],
   "source": [
    "neg_rev_part.head()"
   ]
  },
  {
   "cell_type": "code",
   "execution_count": 56,
   "id": "39237cf2",
   "metadata": {},
   "outputs": [],
   "source": [
    "neg_token = [word for review in neg_rev_part['processed_review'] for word in review]"
   ]
  },
  {
   "cell_type": "code",
   "execution_count": 57,
   "id": "2db9c01b",
   "metadata": {},
   "outputs": [
    {
     "data": {
      "text/html": [
       "<div>\n",
       "<style scoped>\n",
       "    .dataframe tbody tr th:only-of-type {\n",
       "        vertical-align: middle;\n",
       "    }\n",
       "\n",
       "    .dataframe tbody tr th {\n",
       "        vertical-align: top;\n",
       "    }\n",
       "\n",
       "    .dataframe thead th {\n",
       "        text-align: right;\n",
       "    }\n",
       "</style>\n",
       "<table border=\"1\" class=\"dataframe\">\n",
       "  <thead>\n",
       "    <tr style=\"text-align: right;\">\n",
       "      <th></th>\n",
       "      <th>Hotel/Restaurant name</th>\n",
       "      <th>Review</th>\n",
       "      <th>processed_review</th>\n",
       "      <th>compound</th>\n",
       "      <th>neg</th>\n",
       "      <th>pos</th>\n",
       "      <th>neu</th>\n",
       "    </tr>\n",
       "  </thead>\n",
       "  <tbody>\n",
       "    <tr>\n",
       "      <th>0</th>\n",
       "      <td>Green Tamarind Kitchen</td>\n",
       "      <td>If you want the best burger in Phuket, look no...</td>\n",
       "      <td>[want, best, burger, phuket, look, peopl, tell...</td>\n",
       "      <td>0.9381</td>\n",
       "      <td>0.04</td>\n",
       "      <td>0.304</td>\n",
       "      <td>0.656</td>\n",
       "    </tr>\n",
       "    <tr>\n",
       "      <th>2</th>\n",
       "      <td>Green Tamarind Kitchen</td>\n",
       "      <td>This place is amazing! Burgers are delicious! ...</td>\n",
       "      <td>[place, amaz, burger, delici, high, recommend,...</td>\n",
       "      <td>0.8800</td>\n",
       "      <td>0.00</td>\n",
       "      <td>0.404</td>\n",
       "      <td>0.596</td>\n",
       "    </tr>\n",
       "    <tr>\n",
       "      <th>3</th>\n",
       "      <td>Green Tamarind Kitchen</td>\n",
       "      <td>This is a must when in Phuket. Their burgers r...</td>\n",
       "      <td>[must, phuket, burger, rank, top, worldwid, se...</td>\n",
       "      <td>0.6908</td>\n",
       "      <td>0.00</td>\n",
       "      <td>0.168</td>\n",
       "      <td>0.832</td>\n",
       "    </tr>\n",
       "    <tr>\n",
       "      <th>5</th>\n",
       "      <td>Green Tamarind Kitchen</td>\n",
       "      <td>Fancied a change from Thai food and had been t...</td>\n",
       "      <td>[fanci, chang, thai, food, told, place, excel,...</td>\n",
       "      <td>0.9312</td>\n",
       "      <td>0.00</td>\n",
       "      <td>0.309</td>\n",
       "      <td>0.691</td>\n",
       "    </tr>\n",
       "    <tr>\n",
       "      <th>7</th>\n",
       "      <td>Green Tamarind Kitchen</td>\n",
       "      <td>Restaurant open at five pm, as soon it open it...</td>\n",
       "      <td>[restaur, open, five, pm, soon, open, fill, cu...</td>\n",
       "      <td>0.7759</td>\n",
       "      <td>0.00</td>\n",
       "      <td>0.159</td>\n",
       "      <td>0.841</td>\n",
       "    </tr>\n",
       "  </tbody>\n",
       "</table>\n",
       "</div>"
      ],
      "text/plain": [
       "    Hotel/Restaurant name                                             Review  \\\n",
       "0  Green Tamarind Kitchen  If you want the best burger in Phuket, look no...   \n",
       "2  Green Tamarind Kitchen  This place is amazing! Burgers are delicious! ...   \n",
       "3  Green Tamarind Kitchen  This is a must when in Phuket. Their burgers r...   \n",
       "5  Green Tamarind Kitchen  Fancied a change from Thai food and had been t...   \n",
       "7  Green Tamarind Kitchen  Restaurant open at five pm, as soon it open it...   \n",
       "\n",
       "                                    processed_review  compound   neg    pos  \\\n",
       "0  [want, best, burger, phuket, look, peopl, tell...    0.9381  0.04  0.304   \n",
       "2  [place, amaz, burger, delici, high, recommend,...    0.8800  0.00  0.404   \n",
       "3  [must, phuket, burger, rank, top, worldwid, se...    0.6908  0.00  0.168   \n",
       "5  [fanci, chang, thai, food, told, place, excel,...    0.9312  0.00  0.309   \n",
       "7  [restaur, open, five, pm, soon, open, fill, cu...    0.7759  0.00  0.159   \n",
       "\n",
       "     neu  \n",
       "0  0.656  \n",
       "2  0.596  \n",
       "3  0.832  \n",
       "5  0.691  \n",
       "7  0.841  "
      ]
     },
     "execution_count": 57,
     "metadata": {},
     "output_type": "execute_result"
    }
   ],
   "source": [
    "pos_rev_part.head()"
   ]
  },
  {
   "cell_type": "code",
   "execution_count": 58,
   "id": "b17b528a",
   "metadata": {},
   "outputs": [],
   "source": [
    "pos_token = [word for review in pos_rev_part['processed_review'] for word in review]"
   ]
  },
  {
   "cell_type": "code",
   "execution_count": 59,
   "id": "525cd0a5",
   "metadata": {},
   "outputs": [],
   "source": [
    "from nltk.probability import FreqDist"
   ]
  },
  {
   "cell_type": "code",
   "execution_count": 60,
   "id": "abf12c07",
   "metadata": {},
   "outputs": [],
   "source": [
    "neg_freqdist = FreqDist(neg_token)"
   ]
  },
  {
   "cell_type": "code",
   "execution_count": 61,
   "id": "3c69ab9e",
   "metadata": {},
   "outputs": [
    {
     "name": "stdout",
     "output_type": "stream",
     "text": [
      "   food restaur   order   place    good  servic    thai    time    went   price \n",
      "    169     118      73      67      65      59      54      52      47      37 \n"
     ]
    }
   ],
   "source": [
    "neg_freqdist.tabulate(10)"
   ]
  },
  {
   "cell_type": "code",
   "execution_count": 62,
   "id": "4fe6925f",
   "metadata": {},
   "outputs": [
    {
     "data": {
      "image/png": "[encoded data removed]",
      "text/plain": [
       "<Figure size 720x432 with 1 Axes>"
      ]
     },
     "metadata": {
      "needs_background": "light"
     },
     "output_type": "display_data"
    },
    {
     "data": {
      "text/plain": [
       "<AxesSubplot:xlabel='Samples', ylabel='Counts'>"
      ]
     },
     "execution_count": 62,
     "metadata": {},
     "output_type": "execute_result"
    }
   ],
   "source": [
    "plt.figure(figsize=(10,6))\n",
    "neg_freqdist.plot(30)"
   ]
  },
  {
   "cell_type": "code",
   "execution_count": 63,
   "id": "ff2471c2",
   "metadata": {},
   "outputs": [],
   "source": [
    "pos_freqdist = FreqDist(pos_token)"
   ]
  },
  {
   "cell_type": "code",
   "execution_count": 64,
   "id": "705b26ca",
   "metadata": {},
   "outputs": [
    {
     "name": "stdout",
     "output_type": "stream",
     "text": [
      "    food     good    great  restaur    place    staff   servic     thai friendli        u \n",
      "    1695     1170      919      818      781      690      583      546      503      488 \n"
     ]
    }
   ],
   "source": [
    "pos_freqdist.tabulate(10)"
   ]
  },
  {
   "cell_type": "code",
   "execution_count": 65,
   "id": "670285df",
   "metadata": {
    "scrolled": false
   },
   "outputs": [
    {
     "data": {
      "image/png": "[encoded data removed]",
      "text/plain": [
       "<Figure size 720x432 with 1 Axes>"
      ]
     },
     "metadata": {
      "needs_background": "light"
     },
     "output_type": "display_data"
    },
    {
     "data": {
      "text/plain": [
       "<AxesSubplot:xlabel='Samples', ylabel='Counts'>"
      ]
     },
     "execution_count": 65,
     "metadata": {},
     "output_type": "execute_result"
    }
   ],
   "source": [
    "plt.figure(figsize=(10,6))\n",
    "pos_freqdist.plot(30)"
   ]
  },
  {
   "cell_type": "code",
   "execution_count": null,
   "id": "cce20b08",
   "metadata": {},
   "outputs": [],
   "source": []
  }
 ],
 "metadata": {
  "kernelspec": {
   "display_name": "Python 3 (ipykernel)",
   "language": "python",
   "name": "python3"
  },
  "language_info": {
   "codemirror_mode": {
    "name": "ipython",
    "version": 3
   },
   "file_extension": ".py",
   "mimetype": "text/x-python",
   "name": "python",
   "nbconvert_exporter": "python",
   "pygments_lexer": "ipython3",
   "version": "3.9.7"
  }
 },
 "nbformat": 4,
 "nbformat_minor": 5
}
